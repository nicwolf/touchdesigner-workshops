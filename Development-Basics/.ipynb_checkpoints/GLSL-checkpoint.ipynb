{
 "cells": [
  {
   "cell_type": "markdown",
   "metadata": {},
   "source": [
    "# Touchdesigner Game of Life (GLSL)\n",
    "---"
   ]
  },
  {
   "cell_type": "markdown",
   "metadata": {},
   "source": [
    "Jupyter Notebook scratch pad for implementing the Game of Life in Touchdesigner using GLSL."
   ]
  },
  {
   "cell_type": "markdown",
   "metadata": {},
   "source": [
    "* GLSL TOP\n",
    "* The code we write here will be executed in parallel --- that is, once per each pixel in the buffer.\n",
    "* Start by writing the code skeleton:\n",
    "    * const vec4 ALIVE = vec4(1.0);\n",
    "    * const vec4 DEAD = vec4(1.0);"
   ]
  }
 ],
 "metadata": {
  "anaconda-cloud": {},
  "kernelspec": {
   "display_name": "Python [conda env:touchdesigner]",
   "language": "python",
   "name": "conda-env-touchdesigner-py"
  },
  "language_info": {
   "codemirror_mode": {
    "name": "ipython",
    "version": 3
   },
   "file_extension": ".py",
   "mimetype": "text/x-python",
   "name": "python",
   "nbconvert_exporter": "python",
   "pygments_lexer": "ipython3",
   "version": "3.5.2"
  }
 },
 "nbformat": 4,
 "nbformat_minor": 1
}
