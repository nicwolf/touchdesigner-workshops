{
 "cells": [
  {
   "cell_type": "markdown",
   "metadata": {},
   "source": [
    "# Conway's Game of Life\n",
    "---"
   ]
  },
  {
   "cell_type": "markdown",
   "metadata": {},
   "source": [
    "The universe of the Game of Life is an infinite two-dimensional orthogonal grid of square cells, each of which is in one of two possible states, alive or dead. Every cell interacts with its eight neighbours, which are the cells that are horizontally, vertically, or diagonally adjacent. At each step in time, the following transitions occur:\n",
    "\n",
    "* Any live cell with fewer than two live neighbours dies, as if caused by under-population.\n",
    "* Any live cell with two or three live neighbours lives on to the next generation.\n",
    "* Any live cell with more than three live neighbours dies, as if by over-population.\n",
    "* Any dead cell with exactly three live neighbours becomes a live cell, as if by reproduction.\n",
    "\n",
    "The initial pattern constitutes the seed of the system. The first generation is created by applying the above rules simultaneously to every cell in the seed—births and deaths occur simultaneously, and the discrete moment at which this happens is sometimes called a tick (in other words, each generation is a pure function of the preceding one). The rules continue to be applied repeatedly to create further generations. [1]"
   ]
  },
  {
   "cell_type": "markdown",
   "metadata": {},
   "source": [
    "## Example"
   ]
  },
  {
   "cell_type": "markdown",
   "metadata": {},
   "source": [
    "Some images of Game of Life systems should go here."
   ]
  },
  {
   "cell_type": "markdown",
   "metadata": {},
   "source": [
    "## Administrivia"
   ]
  },
  {
   "cell_type": "code",
   "execution_count": 192,
   "metadata": {
    "collapsed": true
   },
   "outputs": [],
   "source": [
    "import numpy as np"
   ]
  },
  {
   "cell_type": "markdown",
   "metadata": {},
   "source": [
    "## Design Decisions"
   ]
  },
  {
   "cell_type": "markdown",
   "metadata": {},
   "source": [
    "We'll start by making some decisions about how to structure our program and the sorts of data types we'll use in our code.\n",
    "\n",
    "> The universe of the Game of Life is an infinite two-dimensional orthogonal grid of square cells, each of which is in one of two possible states, alive or dead.\n",
    "\n",
    "suggests that a two-dimensional array is a good structure for our Game of Life 'board'. "
   ]
  },
  {
   "cell_type": "markdown",
   "metadata": {},
   "source": [
    "## Intro to NumPy Arrays\n",
    "TODO"
   ]
  },
  {
   "cell_type": "markdown",
   "metadata": {},
   "source": [
    "## Prototyping Code"
   ]
  },
  {
   "cell_type": "markdown",
   "metadata": {},
   "source": [
    "We're working in the realm of applications and not theory, so let's ignore the bit about the board being 'infinite'. Let's start by writing a function that will return a Game of Life board of a certain size. We'll use the number 0 to represent a dead cell, and 1 to represent a living cell, and to start with, let's return a board with only dead cells."
   ]
  },
  {
   "cell_type": "code",
   "execution_count": null,
   "metadata": {
    "collapsed": false
   },
   "outputs": [],
   "source": [
    "def create_empty_board(height, width):\n",
    "    \"\"\"\n",
    "    This function creates an empty Game of Life game board.\n",
    "    \n",
    "    Parameters\n",
    "    ----------\n",
    "        height : integer\n",
    "            the height of the board\n",
    "        width : integer\n",
    "            the width of the board\n",
    "            \n",
    "    Returns\n",
    "    ----------\n",
    "        board : 2d array\n",
    "            a Game of Life board, with 'living' and 'dead' cells\n",
    "            \n",
    "    Examples\n",
    "    ----------\n",
    "    >>> create_empty_board(3, 3)\n",
    "    array([[ 0.,  0.,  0.],\n",
    "           [ 0.,  0.,  0.],\n",
    "           [ 0.,  0.,  0.]])\n",
    "    \"\"\"\n",
    "    board = np.zeros((height, width))\n",
    "    return board"
   ]
  },
  {
   "cell_type": "code",
   "execution_count": null,
   "metadata": {
    "collapsed": false
   },
   "outputs": [],
   "source": [
    "board = create_empty_board(3, 3)\n",
    "board"
   ]
  },
  {
   "cell_type": "markdown",
   "metadata": {},
   "source": [
    "So now we have a Game of Life board, but all the cells are dead so nothing interesting will happen. Let's create a better function to create a board in which some cells are alive and some are dead. We can use the NumPy `random.choice` function to accomplish this.\n",
    "\n",
    "Anytime you are confused about how to use a function, in Jupyter Notebook you can write the `functionname` followed by a `?` and a help box will pop up."
   ]
  },
  {
   "cell_type": "code",
   "execution_count": null,
   "metadata": {
    "collapsed": true
   },
   "outputs": [],
   "source": [
    "# np.random.choice?"
   ]
  },
  {
   "cell_type": "code",
   "execution_count": null,
   "metadata": {
    "collapsed": false
   },
   "outputs": [],
   "source": [
    "def create_board(height, width):\n",
    "    \"\"\"\n",
    "    This function creates a Game of Life game board.\n",
    "    \n",
    "    Parameters\n",
    "    ----------\n",
    "        height : integer\n",
    "            the height of the board\n",
    "        width : integer\n",
    "            the width of the board\n",
    "            \n",
    "    Returns\n",
    "    ----------\n",
    "        board : 2d array\n",
    "            a Game of Life board, with 'living' and 'dead' cells\n",
    "            \n",
    "    Examples\n",
    "    ----------\n",
    "    >>> np.random.seed(1)\n",
    "    >>> create_board(3, 3)\n",
    "    array([[1, 1, 0],\n",
    "           [0, 1, 1],\n",
    "           [1, 1, 1]])\n",
    "    \"\"\"\n",
    "    dead, alive = 0, 1\n",
    "    board = np.random.choice([dead, alive], size=(height, width))\n",
    "    return board"
   ]
  },
  {
   "cell_type": "code",
   "execution_count": null,
   "metadata": {
    "collapsed": false
   },
   "outputs": [],
   "source": [
    "board = create_board(3,3)\n",
    "board"
   ]
  },
  {
   "cell_type": "markdown",
   "metadata": {},
   "source": [
    "The way that this function currently works, each cell has a 50% chance of being alive and a 50% chance of being dead. One of the rules of Conway's Game of Life:\n",
    "\n",
    "> Any live cell with more than three live neighbours dies, as if by over-population.\n",
    "\n",
    "means that our game board has *way* too many living cells in it. We should add to the function so that we can control how likely a cell is to start as alive or dead."
   ]
  },
  {
   "cell_type": "code",
   "execution_count": null,
   "metadata": {
    "collapsed": false
   },
   "outputs": [],
   "source": [
    "# Similar to the last function but we add the `p_alive` parameter.\n",
    "def create_board(height, width, p_alive):\n",
    "    \"\"\"\n",
    "    This function creates a Game of Life game board.\n",
    "    \n",
    "    Parameters\n",
    "    ----------\n",
    "        height : integer\n",
    "            the height of the board\n",
    "        width : integer\n",
    "            the width of the board\n",
    "        p_alive : float\n",
    "            the chance that a cell is set to 'alive', must be between [0, 1]\n",
    "            \n",
    "    Returns\n",
    "    ----------\n",
    "        board : 2d array\n",
    "            a Game of Life board, with 'living' and 'dead' cells\n",
    "    \n",
    "    Examples\n",
    "    ----------\n",
    "    >>> np.random.seed(1)\n",
    "    >>> create_board(3, 3, .3)\n",
    "    array([[0, 1, 0],           \n",
    "           [0, 0, 0],\n",
    "           [0, 0, 0]])\n",
    "    \"\"\"\n",
    "    dead, alive = 0, 1\n",
    "    p_dead = 1 - p_alive # We know that if a cell is not alive, it must be dead\n",
    "    board = np.random.choice([dead, alive], p=[p_dead, p_alive], size=(height, width))\n",
    "    \n",
    "    return board"
   ]
  },
  {
   "cell_type": "code",
   "execution_count": null,
   "metadata": {
    "collapsed": false
   },
   "outputs": [],
   "source": [
    "board = create_board(3, 3, p_alive=0)\n",
    "board"
   ]
  },
  {
   "cell_type": "code",
   "execution_count": null,
   "metadata": {
    "collapsed": false
   },
   "outputs": [],
   "source": [
    "board = create_board(3, 3, p_alive=.2)\n",
    "board"
   ]
  },
  {
   "cell_type": "code",
   "execution_count": null,
   "metadata": {
    "collapsed": false
   },
   "outputs": [],
   "source": [
    "board = create_board(3, 3, p_alive=1)\n",
    "board"
   ]
  },
  {
   "cell_type": "markdown",
   "metadata": {},
   "source": [
    "Now we're ready to start building the actual simulation. A reminder of the rules of the Game of Life:\n",
    "\n",
    "* Any live cell with fewer than two live neighbours dies, as if caused by under-population.\n",
    "* Any live cell with two or three live neighbours lives on to the next generation.\n",
    "* Any live cell with more than three live neighbours dies, as if by over-population.\n",
    "* Any dead cell with exactly three live neighbours becomes a live cell, as if by reproduction.\n",
    "\n",
    "Let's sketch out some pseudocode for the algorithm that we'll use to do this.\n",
    "\n",
    "    Create a copy of the current board for the next board\n",
    "    For each cell in the current board:\n",
    "        Count the number of living neighbors it has.\n",
    "        If (the number of living neighbors < 2) and (the cell is alive):\n",
    "            It will be dead in the next board\n",
    "        If (the number of living neighbors = 2 or 3) and (the cell is alive):\n",
    "            It will be alive in the next board\n",
    "        If (the number of living neighbors > 3) and the cell is alive:\n",
    "            It will be dead in the next board\n",
    "        If (the number of living neighbors = 3) and (the cell is dead):\n",
    "            It will be alive in the next board\n",
    "        Set the cell's value in the next board to either alive or dead.\n",
    "        \n",
    "Now that we have a pseudocode skeleton, we can sketch out some real code.\n",
    "\n",
    "* TEACHING NOTE: Start by writing `step_forward` and everytime we write a function that doesn't exist yet, define it and document it outside of `step_forward` with a single pass statement.\n",
    "\n",
    "* TEACHING NOTE: How to handle writing this code? I'm concerned about jumping back and forth, up and down. Maybe we could have two separate Jupyter Notebooks open?"
   ]
  },
  {
   "cell_type": "code",
   "execution_count": null,
   "metadata": {
    "collapsed": true
   },
   "outputs": [],
   "source": [
    "def count_living_neighbors(board, r, c):\n",
    "    \"\"\"\n",
    "    Counts the number of living neighbors around an array cell.\n",
    "    \n",
    "    Parameters\n",
    "    ----------\n",
    "        board : 2d array\n",
    "        r : int\n",
    "            row index\n",
    "        c : int\n",
    "            column index\n",
    "            \n",
    "    Returns\n",
    "    ----------\n",
    "        int\n",
    "            number of living neighbors\n",
    "\n",
    "    \"\"\"\n",
    "    u_ = board[r-1, c]\n",
    "    d_ = board[r+1, c]\n",
    "    l_ = board[r, c-1]\n",
    "    r_ = board[r, c+1]\n",
    "    ul = board[r-1, c-1]\n",
    "    ur = board[r-1, c+1]\n",
    "    dl = board[r+1, c-1]\n",
    "    dr = board[r+1, c+1]\n",
    "    \n",
    "    return (u_ + d_ + l_ + r_ + ul + ur + dl + dr)"
   ]
  },
  {
   "cell_type": "code",
   "execution_count": null,
   "metadata": {
    "collapsed": false
   },
   "outputs": [],
   "source": [
    "board = np.array([\n",
    "    [0, 1, 0, 0],\n",
    "    [0, 1, 0, 0],\n",
    "    [0, 0, 1, 1],\n",
    "    [1, 0, 0, 0]\n",
    "])"
   ]
  },
  {
   "cell_type": "code",
   "execution_count": null,
   "metadata": {
    "collapsed": false
   },
   "outputs": [],
   "source": [
    "count_living_neighbors(board, 1, 1) == 2"
   ]
  },
  {
   "cell_type": "code",
   "execution_count": null,
   "metadata": {
    "collapsed": false
   },
   "outputs": [],
   "source": [
    "count_living_neighbors(board, 1, 2) == 4"
   ]
  },
  {
   "cell_type": "code",
   "execution_count": null,
   "metadata": {
    "collapsed": false
   },
   "outputs": [],
   "source": [
    "count_living_neighbors(board, 0, 3) == 1"
   ]
  },
  {
   "cell_type": "markdown",
   "metadata": {},
   "source": [
    "We're getting the error:\n",
    "\n",
    "    IndexError: index 4 is out of bounds for axis 1 with size 4\n",
    "    \n",
    "How do we fix this? Let's remember that Python uses 0-based indexing, so an array axis with size 4 has indices 0, 1, 2, and 3. Trying to access the array entry at position 4 raises an IndexError. \n",
    "\n",
    "* NOTE: Python supports the indices -1, -2, -3, and -4 for an array with size 4. These indicate working backwards from the 0th entry in the array, so -1 is the last element, -2 is the second-to-last, etc... This is why we don't have issues accessing the -1st row when we look at the `ul` and `ur` elements in the above code.\n",
    "\n",
    "A good question to ask is, what behavior do we want our code to have when it tries to access this index? We've decided that we want our simulation board to 'wrap around' so the element after the last one in a given row/column should be the *first* one in that row/column. In this specific case, for example, instead of index 4 we should pass in index 0.\n",
    "\n",
    "* TEACHING NOTE: Is the modulo operator too much here?\n",
    "\n",
    "Luckily, there is an operator just for this situation! Enter the % (modulo)."
   ]
  },
  {
   "cell_type": "markdown",
   "metadata": {},
   "source": [
    "## Modulo"
   ]
  },
  {
   "cell_type": "markdown",
   "metadata": {},
   "source": [
    "> The modulo operation finds the remainder after division of one number by another. [2]"
   ]
  },
  {
   "cell_type": "code",
   "execution_count": null,
   "metadata": {
    "collapsed": false
   },
   "outputs": [],
   "source": [
    "1 % 1"
   ]
  },
  {
   "cell_type": "code",
   "execution_count": null,
   "metadata": {
    "collapsed": false
   },
   "outputs": [],
   "source": [
    "2 % 1"
   ]
  },
  {
   "cell_type": "code",
   "execution_count": null,
   "metadata": {
    "collapsed": false
   },
   "outputs": [],
   "source": [
    "5 % 2"
   ]
  },
  {
   "cell_type": "code",
   "execution_count": null,
   "metadata": {
    "collapsed": false
   },
   "outputs": [],
   "source": [
    "array = [0, 1, 2, 3]\n",
    "print('Length:', len(array))"
   ]
  },
  {
   "cell_type": "code",
   "execution_count": null,
   "metadata": {
    "collapsed": false
   },
   "outputs": [],
   "source": [
    "i = 4\n",
    "i %= len(array)\n",
    "i"
   ]
  },
  {
   "cell_type": "code",
   "execution_count": null,
   "metadata": {
    "collapsed": false
   },
   "outputs": [],
   "source": [
    "board.shape"
   ]
  },
  {
   "cell_type": "markdown",
   "metadata": {},
   "source": [
    "## Back to Code"
   ]
  },
  {
   "cell_type": "code",
   "execution_count": null,
   "metadata": {
    "collapsed": true
   },
   "outputs": [],
   "source": [
    "def count_living_neighbors(board, r, c):\n",
    "    \"\"\"\n",
    "    Counts the number of living neighbors around an array cell.\n",
    "    \n",
    "    Parameters\n",
    "    ----------\n",
    "        board : 2d array\n",
    "        r : int\n",
    "            row index\n",
    "        c : int\n",
    "            column index\n",
    "            \n",
    "    Returns\n",
    "    ----------\n",
    "        int\n",
    "            number of living neighbors\n",
    "\n",
    "    \"\"\"\n",
    "    num_rows, num_cols = board.shape\n",
    "    \n",
    "    u_ = board[(r-1) % num_rows, c % num_cols]\n",
    "    d_ = board[(r+1) % num_rows, c % num_cols]\n",
    "    l_ = board[r % num_rows, (c-1) % num_cols]\n",
    "    r_ = board[r % num_rows, (c+1) % num_cols]\n",
    "    ul = board[(r-1) % num_rows, (c-1) % num_cols]\n",
    "    ur = board[(r-1) % num_rows, (c+1) % num_cols]\n",
    "    dl = board[(r+1) % num_rows, (c-1) % num_cols]\n",
    "    dr = board[(r+1) % num_rows, (c+1) % num_cols]\n",
    "    \n",
    "    return (u_ + d_ + l_ + r_ + ul + ur + dl + dr)\n",
    "\n",
    "def compute_next_state(current_state, num_living_neighbors):\n",
    "    \"\"\"\n",
    "    Computes the state of a cell in the next generation of a Game of Life.\n",
    "    \n",
    "    Parameters\n",
    "    ----------\n",
    "        current_state : int\n",
    "        num_living_neighbors : int\n",
    "        \n",
    "    Returns\n",
    "    ----------\n",
    "        next_state : int\n",
    "        \n",
    "    \"\"\"\n",
    "    dead, alive = 0, 1\n",
    "    next_state = dead\n",
    "    \n",
    "    if (num_living_neighbors < 2) and (current_state == alive):\n",
    "        # Dies by under-population\n",
    "        next_state = dead\n",
    "    elif ( 2 <= num_living_neighbors <= 3) and (current_state == alive):\n",
    "        # Survives on to the next generation\n",
    "        next_state = alive\n",
    "    elif (num_living_neighbors > 3) and (current_state == alive):\n",
    "        # Dies by over-population\n",
    "        next_state = dead\n",
    "    elif (num_living_neighbors == 3) and (current_state == dead):\n",
    "        # Live cell is birthed \n",
    "        next_state = alive\n",
    "    \n",
    "    return next_state\n",
    "\n",
    "def step_forward(board):\n",
    "    \"\"\"\n",
    "    Computes the next generation of a Game of Life board.\n",
    "    \n",
    "    Parameters\n",
    "    ----------\n",
    "        board : 2d array\n",
    "        \n",
    "    Returns\n",
    "    ----------\n",
    "        next_board : 2d array\n",
    "    \"\"\"\n",
    "    # Copy the current board for the next generation\n",
    "    next_board = board.copy()\n",
    "    # Loop over all of the cells in the current board\n",
    "    rows, cols = board.shape\n",
    "    for r in range(rows):\n",
    "        for c in range(cols):\n",
    "            # Fetch the current state of this cell\n",
    "            current_state = board[r, c]\n",
    "            # Count the number of living neighbors\n",
    "            num_living_neighbors = count_living_neighbors(board, r, c)\n",
    "            # Figure out if this cell will be alive or dead in the next board\n",
    "            next_state = compute_next_state(current_state, num_living_neighbors)\n",
    "#             next_state = 1\n",
    "            # Set the state of this cell in the next board\n",
    "            next_board[r, c] = next_state  \n",
    "    \n",
    "    return next_board"
   ]
  },
  {
   "cell_type": "code",
   "execution_count": null,
   "metadata": {
    "collapsed": false
   },
   "outputs": [],
   "source": [
    "board = create_board(5, 5, .3)\n",
    "print('Starting:')\n",
    "print(board)\n",
    "print('Next Step:')\n",
    "board = step_forward(board)\n",
    "print(board)"
   ]
  },
  {
   "cell_type": "markdown",
   "metadata": {},
   "source": [
    "## Encapsulating in a Class"
   ]
  },
  {
   "cell_type": "markdown",
   "metadata": {},
   "source": [
    "We've been writing code in somewhat of a 'functional' style --- that is we've been writing separate functions that each accomplish one particular task and are isolated from each other. This is a perfectly valid way of writing code, and has pros and cons just like any other style of progoramming. What we'll explore next is a style of programming called Object Oriented Programming (OOP). OOP is a programming paradigm that gives us the ability to think about and structure our code as a real-world object. So instead of passing arrays between functions, we'll create a 'Game of Life board' object with persistent data and we'll use that for our simulation (BAD). This style of programming also has pros and cons. We won't get into those here, I think that the best way to learn about which programming paradigm you should choose to use for a given task is through experience. "
   ]
  },
  {
   "cell_type": "markdown",
   "metadata": {},
   "source": [
    "### A Quick Introduction to Classes"
   ]
  },
  {
   "cell_type": "code",
   "execution_count": null,
   "metadata": {
    "collapsed": false
   },
   "outputs": [],
   "source": [
    "# Simplest possible class\n",
    "class MyClass:\n",
    "    attribute = 'This is an attribute!'\n",
    "    \n",
    "MyClass.attribute"
   ]
  },
  {
   "cell_type": "code",
   "execution_count": null,
   "metadata": {
    "collapsed": false
   },
   "outputs": [],
   "source": [
    "# A bit more complicated\n",
    "class MyClass:\n",
    "    def __init__(self, attribute):\n",
    "        self.attribute = attribute\n",
    "        \n",
    "instance = MyClass('This is an instance attribute')\n",
    "instance.attribute"
   ]
  },
  {
   "cell_type": "markdown",
   "metadata": {},
   "source": [
    "### Game of Life Class"
   ]
  },
  {
   "cell_type": "markdown",
   "metadata": {},
   "source": [
    "Let's start by thinking about the properties that our Game of Life object should have and the sorts of actions it should be able to perform.\n",
    "\n",
    "* It should be able to start a simulation with a new 'board'\n",
    "* It should be able to step forward through generations\n",
    "* We may want to start a new simulation if all of the cells in the board are dead, so we should write a function to query the board to see if all the cells are dead"
   ]
  },
  {
   "cell_type": "code",
   "execution_count": null,
   "metadata": {
    "collapsed": true
   },
   "outputs": [],
   "source": [
    "# Skeleton Class\n",
    "class GameOfLife:\n",
    "    \"\"\"Conway's Game of Life\"\"\"\n",
    "    def __init__(self):\n",
    "        \"\"\"Initialize a class instance\"\"\"\n",
    "        pass\n",
    "\n",
    "    def start(self):\n",
    "        \"\"\"Start a new simulation.\"\"\"\n",
    "        pass\n",
    "    \n",
    "    def step(self):\n",
    "        \"\"\"Step the simulation forward a generation.\"\"\"\n",
    "        pass\n",
    "    \n",
    "    def is_empty(self):\n",
    "        \"\"\"Check to see if the Game of Life board is empty\"\"\"\n",
    "        pass\n",
    "    \n",
    "    def restart(self):\n",
    "        \"\"\"Restart the Game of Life simulation with a new board\"\"\"\n",
    "        pass"
   ]
  },
  {
   "cell_type": "markdown",
   "metadata": {},
   "source": [
    "Now let's start filling this class in."
   ]
  },
  {
   "cell_type": "markdown",
   "metadata": {},
   "source": [
    "We'll start with our initialization method. We don't have a simulation running yet, but we want a 'board' attribute to be accessible to the other functions in the class, so we'll go ahead and add an empty board."
   ]
  },
  {
   "cell_type": "code",
   "execution_count": 186,
   "metadata": {
    "collapsed": true
   },
   "outputs": [],
   "source": [
    "class GameOfLife:\n",
    "    \"\"\"Conway's Game of Life\"\"\"\n",
    "    def __init__(self):\n",
    "        \"\"\"Initialize a class instance\"\"\"\n",
    "        self.board = None\n",
    "\n",
    "    def start(self):\n",
    "        \"\"\"Start a new simulation.\"\"\"\n",
    "        pass\n",
    "    \n",
    "    def step(self):\n",
    "        \"\"\"Step the simulation forward a generation.\"\"\"\n",
    "        pass\n",
    "    \n",
    "    def is_empty(self):\n",
    "        \"\"\"Check to see if the Game of Life board is empty\"\"\"\n",
    "        pass\n",
    "    \n",
    "    def restart(self):\n",
    "        \"\"\"Restart the Game of Life simulation with a new board\"\"\"\n",
    "        pass"
   ]
  },
  {
   "cell_type": "code",
   "execution_count": null,
   "metadata": {
    "collapsed": false
   },
   "outputs": [],
   "source": [
    "simulation = GameOfLife()\n",
    "print(simulation.board)"
   ]
  },
  {
   "cell_type": "markdown",
   "metadata": {},
   "source": [
    "Next we'll write the start method. This should create a new game board of a given size. We'll rip off the `create_board` function that we wrote earlier, rename it as `new_board`, which makes more sense in this context, and call that function under our class's start method."
   ]
  },
  {
   "cell_type": "code",
   "execution_count": 193,
   "metadata": {
    "collapsed": false
   },
   "outputs": [],
   "source": [
    "class GameOfLife:\n",
    "    DEAD, ALIVE = 0, 1 # These are Class variables\n",
    "    \"\"\"Conway's Game of Life\"\"\"\n",
    "    def __init__(self):\n",
    "        \"\"\"Initialize a class instance\"\"\"\n",
    "        self.board = None\n",
    "\n",
    "    def start(self, height, width, p_alive=.3):\n",
    "        \"\"\"Start a new simulation.\"\"\"\n",
    "        self.new_board(height, width, p_alive)\n",
    "    \n",
    "    def step(self):\n",
    "        \"\"\"Step the simulation forward a generation.\"\"\"\n",
    "        pass\n",
    "    \n",
    "    def is_empty(self):\n",
    "        \"\"\"Check to see if the Game of Life board is empty\"\"\"\n",
    "        pass\n",
    "    \n",
    "    def new_board(self, height, width, p_alive):\n",
    "        \"\"\"\n",
    "        This function creates a Game of Life game board.\n",
    "\n",
    "        Parameters\n",
    "        ----------\n",
    "            height : integer\n",
    "                the height of the board\n",
    "            width : integer\n",
    "                the width of the board\n",
    "            p_alive : float\n",
    "                the chance that a cell is set to 'alive', must be between [0, 1]\n",
    "                \n",
    "        \"\"\"\n",
    "        p_dead = 1 - p_alive # We know that if a cell is not alive, it must be dead\n",
    "        self.board = np.random.choice(\n",
    "            [self.DEAD, self.ALIVE], p=[p_dead, p_alive], size=(height, width)\n",
    "        )\n",
    "    \n",
    "    def restart(self):\n",
    "        \"\"\"Restart the Game of Life simulation with a new board\"\"\"\n",
    "        pass"
   ]
  },
  {
   "cell_type": "code",
   "execution_count": null,
   "metadata": {
    "collapsed": false
   },
   "outputs": [],
   "source": [
    "simulation = GameOfLife()\n",
    "simulation.start(height=10, width=10)\n",
    "simulation.board"
   ]
  },
  {
   "cell_type": "markdown",
   "metadata": {},
   "source": [
    "Next, let's add in the functionality to step to the next generation."
   ]
  },
  {
   "cell_type": "code",
   "execution_count": 194,
   "metadata": {
    "collapsed": false
   },
   "outputs": [],
   "source": [
    "class GameOfLife:\n",
    "    \"\"\"Conway's Game of Life\"\"\"\n",
    "    DEAD, ALIVE = 0, 1\n",
    "    def __init__(self):\n",
    "        \"\"\"Initialize a class instance\"\"\"\n",
    "        self.board = None\n",
    "\n",
    "    def start(self, height, width, p_alive=.3):\n",
    "        \"\"\"Start a new simulation.\"\"\"\n",
    "        self.new_board(height, width, p_alive)\n",
    "    \n",
    "    def step(self):\n",
    "        \"\"\"Step the simulation forward a generation.\"\"\"\n",
    "        # Copy the current board for the next generation\n",
    "        next_board = self.board.copy()\n",
    "        # Loop over all of the cells in the current board\n",
    "        num_rows, num_cols = self.board.shape\n",
    "        for r in range(num_rows):\n",
    "            for c in range(num_cols):\n",
    "                # Fetch the current state of this cell\n",
    "                current_state = self.board[r, c]\n",
    "                # Count the number of living neighbors\n",
    "                num_living_neighbors = self.count_living_neighbors(r, c)\n",
    "                # Figure out if this cell will be alive or dead in the next board\n",
    "                next_state = self.compute_next_state(current_state, num_living_neighbors)\n",
    "    #             next_state = 1\n",
    "                # Set the state of this cell in the next board\n",
    "                next_board[r, c] = next_state  \n",
    "\n",
    "        self.board = next_board\n",
    "    \n",
    "    def is_empty(self):\n",
    "        \"\"\"Check to see if the Game of Life board is empty\"\"\"\n",
    "        pass\n",
    "    \n",
    "    def new_board(self, height, width, p_alive):\n",
    "        \"\"\"\n",
    "        This function creates a Game of Life game board.\n",
    "\n",
    "        Parameters\n",
    "        ----------\n",
    "            height : integer\n",
    "                the height of the board\n",
    "            width : integer\n",
    "                the width of the board\n",
    "            p_alive : float\n",
    "                the chance that a cell is set to 'alive', must be between [0, 1]\n",
    "                \n",
    "        \"\"\"\n",
    "        dead, alive = 0, 1\n",
    "        p_dead = 1 - p_alive # We know that if a cell is not alive, it must be dead\n",
    "        self.board = np.random.choice(\n",
    "            [self.DEAD, self.ALIVE], p=[p_dead, p_alive], size=(height, width)\n",
    "        )\n",
    "\n",
    "    def count_living_neighbors(self, r, c):\n",
    "        \"\"\"\n",
    "        Counts the number of living neighbors around an array cell.\n",
    "\n",
    "        Parameters\n",
    "        ----------\n",
    "            board : 2d array\n",
    "            r : int\n",
    "                row index\n",
    "            c : int\n",
    "                column index\n",
    "\n",
    "        Returns\n",
    "        ----------\n",
    "            int\n",
    "                number of living neighbors\n",
    "\n",
    "        \"\"\"\n",
    "        num_rows, num_cols = self.board.shape\n",
    "\n",
    "        u_ = self.board[(r-1) % num_rows, c % num_cols]\n",
    "        d_ = self.board[(r+1) % num_rows, c % num_cols]\n",
    "        l_ = self.board[r % num_rows, (c-1) % num_cols]\n",
    "        r_ = self.board[r % num_rows, (c+1) % num_cols]\n",
    "        ul = self.board[(r-1) % num_rows, (c-1) % num_cols]\n",
    "        ur = self.board[(r-1) % num_rows, (c+1) % num_cols]\n",
    "        dl = self.board[(r+1) % num_rows, (c-1) % num_cols]\n",
    "        dr = self.board[(r+1) % num_rows, (c+1) % num_cols]\n",
    "\n",
    "        return (u_ + d_ + l_ + r_ + ul + ur + dl + dr)\n",
    "\n",
    "    def compute_next_state(self, current_state, num_living_neighbors):\n",
    "        \"\"\"\n",
    "        Computes the state of a cell in the next generation of a Game of Life.\n",
    "\n",
    "        Parameters\n",
    "        ----------\n",
    "            current_state : int\n",
    "            num_living_neighbors : int\n",
    "\n",
    "        Returns\n",
    "        ----------\n",
    "            next_state : int\n",
    "\n",
    "        \"\"\"\n",
    "        next_state = self.DEAD\n",
    "\n",
    "        if (num_living_neighbors < 2) and (current_state == self.ALIVE):\n",
    "            # Dies by under-population\n",
    "            next_state = self.DEAD\n",
    "        elif ( 2 <= num_living_neighbors <= 3) and (current_state == self.ALIVE):\n",
    "            # Survives on to the next generation\n",
    "            next_state = self.ALIVE\n",
    "        elif (num_living_neighbors > 3) and (current_state == self.ALIVE):\n",
    "            # Dies by over-population\n",
    "            next_state = self.DEAD\n",
    "        elif (num_living_neighbors == 3) and (current_state == self.DEAD):\n",
    "            # Live cell is birthed \n",
    "            next_state = self.ALIVE\n",
    "\n",
    "        return next_state\n",
    "    \n",
    "    def restart(self):\n",
    "        \"\"\"Restart the Game of Life simulation with a new board\"\"\"\n",
    "        pass"
   ]
  },
  {
   "cell_type": "code",
   "execution_count": 195,
   "metadata": {
    "collapsed": false
   },
   "outputs": [
    {
     "name": "stdout",
     "output_type": "stream",
     "text": [
      "Starting Board:\n",
      "[[0 0 1 1 1 1 0 1 0 0]\n",
      " [0 0 1 0 1 1 0 0 0 1]\n",
      " [0 1 0 1 0 0 1 0 0 0]\n",
      " [0 0 0 0 0 0 1 1 0 0]\n",
      " [0 1 0 1 0 0 0 0 0 0]\n",
      " [1 0 0 1 0 1 0 0 0 1]\n",
      " [1 1 0 0 0 0 0 0 0 1]\n",
      " [1 0 1 0 0 0 0 0 0 1]\n",
      " [1 0 0 1 1 1 0 1 0 0]\n",
      " [1 1 0 1 1 0 0 0 0 0]]\n",
      "Next Board:\n",
      "[[1 0 0 0 0 0 1 0 0 0]\n",
      " [0 1 0 0 0 0 0 0 0 0]\n",
      " [0 0 1 1 1 0 1 1 0 0]\n",
      " [0 0 0 0 0 0 1 1 0 0]\n",
      " [1 0 1 0 1 0 1 0 0 0]\n",
      " [0 0 0 0 1 0 0 0 0 1]\n",
      " [0 0 1 0 0 0 0 0 1 0]\n",
      " [0 0 1 1 1 0 0 0 1 0]\n",
      " [0 0 0 0 0 1 0 0 0 0]\n",
      " [1 1 0 0 0 0 0 0 0 0]]\n"
     ]
    }
   ],
   "source": [
    "simulation = GameOfLife()\n",
    "simulation.start(height=10, width=10)\n",
    "print('Starting Board:')\n",
    "print(simulation.board)\n",
    "print('Next Board:')\n",
    "simulation.step()\n",
    "print(simulation.board)"
   ]
  },
  {
   "cell_type": "markdown",
   "metadata": {},
   "source": [
    "And finally let's add the ability to query the board to see if it is empty and to restart, if it is."
   ]
  },
  {
   "cell_type": "code",
   "execution_count": 197,
   "metadata": {
    "collapsed": false
   },
   "outputs": [],
   "source": [
    "class GameOfLife:\n",
    "    \"\"\"Conway's Game of Life\"\"\"\n",
    "    DEAD, ALIVE = 0, 1\n",
    "    def __init__(self):\n",
    "        \"\"\"Initialize a class instance\"\"\"\n",
    "        self.board = None\n",
    "        \n",
    "    def is_empty(self):\n",
    "        \"\"\"Check to see if the Game of Life board is empty\"\"\"\n",
    "        return (self.board == 0).all()\n",
    "    \n",
    "    def restart(self, height, width, p_alive):\n",
    "        \"\"\"Restart the Game of Life simulation with a new board\"\"\"\n",
    "        self.board = self.new_board(height, width, p_alive)\n",
    "    \n",
    "    def start(self, height, width, p_alive=.3):\n",
    "        \"\"\"Start a new simulation.\"\"\"\n",
    "        self.new_board(height, width, p_alive)\n",
    "    \n",
    "    def step(self):\n",
    "        \"\"\"Step the simulation forward a generation.\"\"\"\n",
    "        # Copy the current board for the next generation\n",
    "        next_board = self.board.copy()\n",
    "        # Loop over all of the cells in the current board\n",
    "        num_rows, num_cols = self.board.shape\n",
    "        for r in range(num_rows):\n",
    "            for c in range(num_cols):\n",
    "                # Fetch the current state of this cell\n",
    "                current_state = self.board[r, c]\n",
    "                # Count the number of living neighbors\n",
    "                num_living_neighbors = self.count_living_neighbors(r, c)\n",
    "                # Figure out if this cell will be alive or dead in the next board\n",
    "                next_state = self.compute_next_state(current_state, num_living_neighbors)\n",
    "    #             next_state = 1\n",
    "                # Set the state of this cell in the next board\n",
    "                next_board[r, c] = next_state  \n",
    "\n",
    "        self.board = next_board\n",
    "    \n",
    "    def is_empty(self):\n",
    "        \"\"\"Check to see if the Game of Life board is empty\"\"\"\n",
    "        pass\n",
    "    \n",
    "    def new_board(self, height, width, p_alive):\n",
    "        \"\"\"\n",
    "        This function creates a Game of Life game board.\n",
    "\n",
    "        Parameters\n",
    "        ----------\n",
    "            height : integer\n",
    "                the height of the board\n",
    "            width : integer\n",
    "                the width of the board\n",
    "            p_alive : float\n",
    "                the chance that a cell is set to 'alive', must be between [0, 1]\n",
    "                \n",
    "        \"\"\"\n",
    "        dead, alive = 0, 1\n",
    "        p_dead = 1 - p_alive # We know that if a cell is not alive, it must be dead\n",
    "        self.board = np.random.choice(\n",
    "            [self.DEAD, self.ALIVE], p=[p_dead, p_alive], size=(height, width)\n",
    "        )\n",
    "\n",
    "    def count_living_neighbors(self, r, c):\n",
    "        \"\"\"\n",
    "        Counts the number of living neighbors around an array cell.\n",
    "\n",
    "        Parameters\n",
    "        ----------\n",
    "            board : 2d array\n",
    "            r : int\n",
    "                row index\n",
    "            c : int\n",
    "                column index\n",
    "\n",
    "        Returns\n",
    "        ----------\n",
    "            int\n",
    "                number of living neighbors\n",
    "\n",
    "        \"\"\"\n",
    "        num_rows, num_cols = self.board.shape\n",
    "\n",
    "        u_ = self.board[(r-1) % num_rows, c % num_cols]\n",
    "        d_ = self.board[(r+1) % num_rows, c % num_cols]\n",
    "        l_ = self.board[r % num_rows, (c-1) % num_cols]\n",
    "        r_ = self.board[r % num_rows, (c+1) % num_cols]\n",
    "        ul = self.board[(r-1) % num_rows, (c-1) % num_cols]\n",
    "        ur = self.board[(r-1) % num_rows, (c+1) % num_cols]\n",
    "        dl = self.board[(r+1) % num_rows, (c-1) % num_cols]\n",
    "        dr = self.board[(r+1) % num_rows, (c+1) % num_cols]\n",
    "\n",
    "        return (u_ + d_ + l_ + r_ + ul + ur + dl + dr)\n",
    "\n",
    "    def compute_next_state(self, current_state, num_living_neighbors):\n",
    "        \"\"\"\n",
    "        Computes the state of a cell in the next generation of a Game of Life.\n",
    "\n",
    "        Parameters\n",
    "        ----------\n",
    "            current_state : int\n",
    "            num_living_neighbors : int\n",
    "\n",
    "        Returns\n",
    "        ----------\n",
    "            next_state : int\n",
    "\n",
    "        \"\"\"\n",
    "        next_state = self.DEAD\n",
    "\n",
    "        if (num_living_neighbors < 2) and (current_state == self.ALIVE):\n",
    "            # Dies by under-population\n",
    "            next_state = self.DEAD\n",
    "        elif ( 2 <= num_living_neighbors <= 3) and (current_state == self.ALIVE):\n",
    "            # Survives on to the next generation\n",
    "            next_state = self.ALIVE\n",
    "        elif (num_living_neighbors > 3) and (current_state == self.ALIVE):\n",
    "            # Dies by over-population\n",
    "            next_state = self.DEAD\n",
    "        elif (num_living_neighbors == 3) and (current_state == self.DEAD):\n",
    "            # Live cell is birthed \n",
    "            next_state = self.ALIVE\n",
    "\n",
    "        return next_state"
   ]
  },
  {
   "cell_type": "code",
   "execution_count": null,
   "metadata": {
    "collapsed": false
   },
   "outputs": [],
   "source": [
    "simulation = GameOfLife()\n",
    "simulation.start(height=10, width=10)\n",
    "while True:\n",
    "    simulation.step()\n",
    "    if simulation.is_empty():\n",
    "        simulation.restart(height=10, width=10)"
   ]
  },
  {
   "cell_type": "markdown",
   "metadata": {},
   "source": [
    "TODO (Written 11/19/16):\n",
    "* Implement some tests for our functions\n",
    "* Is it possible to write a better array display function? Don't want it to be overly complex but it would be nice to see black/white squares instead of the array print output."
   ]
  },
  {
   "cell_type": "markdown",
   "metadata": {},
   "source": [
    "## References\n",
    "\n",
    "1. https://en.wikipedia.org/wiki/Conway's_Game_of_Life\n",
    "\n",
    "2. https://en.wikipedia.org/wiki/Modulo_operation"
   ]
  }
 ],
 "metadata": {
  "anaconda-cloud": {},
  "kernelspec": {
   "display_name": "Python [conda env:touchdesigner]",
   "language": "python",
   "name": "conda-env-touchdesigner-py"
  },
  "language_info": {
   "codemirror_mode": {
    "name": "ipython",
    "version": 3
   },
   "file_extension": ".py",
   "mimetype": "text/x-python",
   "name": "python",
   "nbconvert_exporter": "python",
   "pygments_lexer": "ipython3",
   "version": "3.5.2"
  }
 },
 "nbformat": 4,
 "nbformat_minor": 1
}
