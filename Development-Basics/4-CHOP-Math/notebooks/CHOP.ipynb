{
 "cells": [
  {
   "cell_type": "markdown",
   "metadata": {},
   "source": [
    "# TouchDesigner Game of Life (CHOP Math)\n",
    "---"
   ]
  },
  {
   "cell_type": "markdown",
   "metadata": {},
   "source": [
    "This is my sketchpad for outlining making the Game of Life in Touchdesigner with CHOP math. I'm trying to remain as faithful to the functional paradigm implementation we wrote earlier."
   ]
  },
  {
   "cell_type": "markdown",
   "metadata": {},
   "source": [
    "* Constant CHOP: `num_rows`, `num_cols`, `p_alive`\n",
    "* Null CHOP, rename 'parameters'\n",
    "* Noise CHOP\n",
    "    * Rename Channel Names\n",
    "    * Drive number of samples with 'parameters'\n",
    "* Math CHOP\n",
    "    * Map from -1, 1 to 0, 1\n",
    "* Expr CHOP\n",
    "    * `me.inputVal > p_alive`\n",
    "* Null CHOP\n",
    "* Add 'New Board' Button\n",
    "    * Momentary\n",
    "    * Increase seed on push\n",
    "* Collapse into Container COMP\n",
    "* (Maybe need to re-export CHOP)\n",
    "* Null CHOP out of Container\n",
    "* Container off of Null CHOP, rename 'step_board'\n",
    "\n",
    "* Inside 'step_board', Container COMP off 'in1', rename 'count_neighbors'\n",
    "* Inside, do CHOP math for counting neighbors\n",
    "    * shift, rename 'left', -1 scroll offset\n",
    "    * same for 'right'\n",
    "    * null chop for 'center'\n",
    "* Shift up with Reorder CHOP\n",
    "    * Sort with numeric pattern\n",
    "        * 1-9 for 'down'\n",
    "        * 0-8 for 'up', also change remaining position to 'at beginning'\n",
    "* Make all 8 channels\n",
    "* Add CHOPS with Math CHOP, rename 'num_neighbors'\n",
    "* Connect to Out CHOP\n",
    "\n",
    "* Go over heuristics for reducing number if statements in Game of Life rules.\n",
    "* Make logic circuit\n",
    "\n",
    "* Collapse into COMPs\n",
    "* Zoom out a level\n",
    "* Make visualization interface\n"
   ]
  }
 ],
 "metadata": {
  "anaconda-cloud": {},
  "kernelspec": {
   "display_name": "Python [conda env:touchdesigner]",
   "language": "python",
   "name": "conda-env-touchdesigner-py"
  },
  "language_info": {
   "codemirror_mode": {
    "name": "ipython",
    "version": 3
   },
   "file_extension": ".py",
   "mimetype": "text/x-python",
   "name": "python",
   "nbconvert_exporter": "python",
   "pygments_lexer": "ipython3",
   "version": "3.5.2"
  }
 },
 "nbformat": 4,
 "nbformat_minor": 1
}
