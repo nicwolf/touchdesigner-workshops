{
 "cells": [
  {
   "cell_type": "markdown",
   "metadata": {},
   "source": [
    "# Object Oriented Programming\n",
    "---"
   ]
  },
  {
   "cell_type": "markdown",
   "metadata": {},
   "source": [
    "We've been writing code in somewhat of a 'functional' style --- that is we've been writing separate functions that each accomplish one particular task and are isolated from each other. This is a perfectly valid way of writing code, and has pros and cons just like any other style of progoramming. What we'll explore next is a style of programming called Object Oriented Programming (OOP). OOP is a programming paradigm that gives us the ability to think about and structure our code as a real-world object. So instead of passing arrays between functions, we'll create a 'Game of Life board' object with persistent data and we'll use that for our simulation (BAD). This style of programming also has pros and cons. We won't get into those here, I think that the best way to learn about which programming paradigm you should choose to use for a given task is through experience. "
   ]
  },
  {
   "cell_type": "markdown",
   "metadata": {},
   "source": [
    "## Administrivia"
   ]
  },
  {
   "cell_type": "code",
   "execution_count": 6,
   "metadata": {
    "collapsed": true
   },
   "outputs": [],
   "source": [
    "import numpy as np"
   ]
  },
  {
   "cell_type": "markdown",
   "metadata": {},
   "source": [
    "## A Quick Introduction to Classes"
   ]
  },
  {
   "cell_type": "code",
   "execution_count": null,
   "metadata": {
    "collapsed": true
   },
   "outputs": [],
   "source": [
    "# Simplest possible class\n",
    "class MyClass:\n",
    "    attribute = 'This is an attribute!'\n",
    "    \n",
    "MyClass.attribute"
   ]
  },
  {
   "cell_type": "code",
   "execution_count": null,
   "metadata": {
    "collapsed": true
   },
   "outputs": [],
   "source": [
    "# A bit more complicated\n",
    "class MyClass:\n",
    "    def __init__(self, attribute):\n",
    "        self.attribute = attribute\n",
    "        \n",
    "instance = MyClass('This is an instance attribute')\n",
    "instance.attribute"
   ]
  },
  {
   "cell_type": "markdown",
   "metadata": {},
   "source": [
    "## Game of Life Class"
   ]
  },
  {
   "cell_type": "markdown",
   "metadata": {},
   "source": [
    "Let's start by thinking about the properties that our Game of Life object should have and the sorts of actions it should be able to perform.\n",
    "\n",
    "* It should be able to start a simulation with a new 'board'\n",
    "* It should be able to step forward through generations\n",
    "* We may want to start a new simulation if all of the cells in the board are dead, so we should write a function to query the board to see if all the cells are dead"
   ]
  },
  {
   "cell_type": "code",
   "execution_count": 1,
   "metadata": {
    "collapsed": true
   },
   "outputs": [],
   "source": [
    "# Skeleton Class\n",
    "class GameOfLife:\n",
    "    \"\"\"Conway's Game of Life\"\"\"\n",
    "    def __init__(self):\n",
    "        \"\"\"Initialize a class instance\"\"\"\n",
    "        pass\n",
    "\n",
    "    def start(self):\n",
    "        \"\"\"Start a new simulation.\"\"\"\n",
    "        pass\n",
    "    \n",
    "    def step(self):\n",
    "        \"\"\"Step the simulation forward a generation.\"\"\"\n",
    "        pass\n",
    "    \n",
    "    def is_empty(self):\n",
    "        \"\"\"Check to see if the Game of Life board is empty\"\"\"\n",
    "        pass\n",
    "    \n",
    "    def restart(self):\n",
    "        \"\"\"Restart the Game of Life simulation with a new board\"\"\"\n",
    "        pass"
   ]
  },
  {
   "cell_type": "markdown",
   "metadata": {},
   "source": [
    "Now let's start filling this class in.\n",
    "\n",
    "We'll start with our initialization method. We don't have a simulation running yet, but we want a 'board' attribute to be accessible to the other functions in the class, so we'll go ahead and add an empty board."
   ]
  },
  {
   "cell_type": "code",
   "execution_count": 2,
   "metadata": {
    "collapsed": true
   },
   "outputs": [],
   "source": [
    "class GameOfLife:\n",
    "    \"\"\"Conway's Game of Life\"\"\"\n",
    "    def __init__(self):\n",
    "        \"\"\"Initialize a class instance\"\"\"\n",
    "        self.board = None\n",
    "\n",
    "    def start(self):\n",
    "        \"\"\"Start a new simulation.\"\"\"\n",
    "        pass\n",
    "    \n",
    "    def step(self):\n",
    "        \"\"\"Step the simulation forward a generation.\"\"\"\n",
    "        pass\n",
    "    \n",
    "    def is_empty(self):\n",
    "        \"\"\"Check to see if the Game of Life board is empty\"\"\"\n",
    "        pass\n",
    "    \n",
    "    def restart(self):\n",
    "        \"\"\"Restart the Game of Life simulation with a new board\"\"\"\n",
    "        pass"
   ]
  },
  {
   "cell_type": "code",
   "execution_count": 3,
   "metadata": {
    "collapsed": false
   },
   "outputs": [
    {
     "name": "stdout",
     "output_type": "stream",
     "text": [
      "None\n"
     ]
    }
   ],
   "source": [
    "simulation = GameOfLife()\n",
    "print(simulation.board)"
   ]
  },
  {
   "cell_type": "markdown",
   "metadata": {},
   "source": [
    "Next we'll write the start method. This should create a new game board of a given size. We'll rip off the `create_board` function that we wrote earlier, rename it as `new_board`, which makes more sense in this context, and call that function under our class's start method."
   ]
  },
  {
   "cell_type": "code",
   "execution_count": 4,
   "metadata": {
    "collapsed": true
   },
   "outputs": [],
   "source": [
    "class GameOfLife:\n",
    "    DEAD, ALIVE = 0, 1 # These are Class variables\n",
    "    \"\"\"Conway's Game of Life\"\"\"\n",
    "    def __init__(self):\n",
    "        \"\"\"Initialize a class instance\"\"\"\n",
    "        self.board = None\n",
    "\n",
    "    def start(self, height, width, p_alive=.3):\n",
    "        \"\"\"Start a new simulation.\"\"\"\n",
    "        self.new_board(height, width, p_alive)\n",
    "    \n",
    "    def step(self):\n",
    "        \"\"\"Step the simulation forward a generation.\"\"\"\n",
    "        pass\n",
    "    \n",
    "    def is_empty(self):\n",
    "        \"\"\"Check to see if the Game of Life board is empty\"\"\"\n",
    "        pass\n",
    "    \n",
    "    def new_board(self, height, width, p_alive):\n",
    "        \"\"\"\n",
    "        This function creates a Game of Life game board.\n",
    "\n",
    "        Parameters\n",
    "        ----------\n",
    "            height : integer\n",
    "                the height of the board\n",
    "            width : integer\n",
    "                the width of the board\n",
    "            p_alive : float\n",
    "                the chance that a cell is set to 'alive', must be between [0, 1]\n",
    "                \n",
    "        \"\"\"\n",
    "        p_dead = 1 - p_alive # We know that if a cell is not alive, it must be dead\n",
    "        self.board = np.random.choice(\n",
    "            [self.DEAD, self.ALIVE], p=[p_dead, p_alive], size=(height, width)\n",
    "        )\n",
    "    \n",
    "    def restart(self):\n",
    "        \"\"\"Restart the Game of Life simulation with a new board\"\"\"\n",
    "        pass"
   ]
  },
  {
   "cell_type": "code",
   "execution_count": 7,
   "metadata": {
    "collapsed": false
   },
   "outputs": [
    {
     "data": {
      "text/plain": [
       "array([[0, 1, 0, 0, 0, 1, 1, 0, 0, 0],\n",
       "       [0, 0, 0, 1, 0, 0, 0, 1, 0, 0],\n",
       "       [1, 0, 1, 0, 0, 0, 1, 0, 0, 1],\n",
       "       [0, 0, 0, 0, 0, 0, 0, 0, 0, 1],\n",
       "       [0, 0, 0, 0, 0, 1, 1, 0, 0, 0],\n",
       "       [0, 1, 0, 1, 1, 0, 0, 0, 1, 0],\n",
       "       [0, 0, 0, 1, 0, 0, 0, 0, 0, 1],\n",
       "       [1, 1, 1, 1, 1, 0, 1, 0, 0, 0],\n",
       "       [1, 0, 0, 0, 1, 1, 0, 0, 0, 0],\n",
       "       [0, 0, 1, 1, 0, 0, 0, 0, 0, 0]])"
      ]
     },
     "execution_count": 7,
     "metadata": {},
     "output_type": "execute_result"
    }
   ],
   "source": [
    "simulation = GameOfLife()\n",
    "simulation.start(height=10, width=10)\n",
    "simulation.board"
   ]
  },
  {
   "cell_type": "markdown",
   "metadata": {},
   "source": [
    "Next, let's add in the functionality to step to the next generation."
   ]
  },
  {
   "cell_type": "code",
   "execution_count": 9,
   "metadata": {
    "collapsed": true
   },
   "outputs": [],
   "source": [
    "class GameOfLife:\n",
    "    \"\"\"Conway's Game of Life\"\"\"\n",
    "    DEAD, ALIVE = 0, 1\n",
    "    def __init__(self):\n",
    "        \"\"\"Initialize a class instance\"\"\"\n",
    "        self.board = None\n",
    "\n",
    "    def start(self, height, width, p_alive=.3):\n",
    "        \"\"\"Start a new simulation.\"\"\"\n",
    "        self.new_board(height, width, p_alive)\n",
    "    \n",
    "    def step(self):\n",
    "        \"\"\"Step the simulation forward a generation.\"\"\"\n",
    "        # Copy the current board for the next generation\n",
    "        next_board = self.board.copy()\n",
    "        # Loop over all of the cells in the current board\n",
    "        num_rows, num_cols = self.board.shape\n",
    "        for r in range(num_rows):\n",
    "            for c in range(num_cols):\n",
    "                # Fetch the current state of this cell\n",
    "                current_state = self.board[r, c]\n",
    "                # Count the number of living neighbors\n",
    "                num_living_neighbors = self.count_living_neighbors(r, c)\n",
    "                # Figure out if this cell will be alive or dead in the next board\n",
    "                next_state = self.compute_next_state(current_state, num_living_neighbors)\n",
    "    #             next_state = 1\n",
    "                # Set the state of this cell in the next board\n",
    "                next_board[r, c] = next_state  \n",
    "\n",
    "        self.board = next_board\n",
    "    \n",
    "    def is_empty(self):\n",
    "        \"\"\"Check to see if the Game of Life board is empty\"\"\"\n",
    "        pass\n",
    "    \n",
    "    def new_board(self, height, width, p_alive):\n",
    "        \"\"\"\n",
    "        This function creates a Game of Life game board.\n",
    "\n",
    "        Parameters\n",
    "        ----------\n",
    "            height : integer\n",
    "                the height of the board\n",
    "            width : integer\n",
    "                the width of the board\n",
    "            p_alive : float\n",
    "                the chance that a cell is set to 'alive', must be between [0, 1]\n",
    "                \n",
    "        \"\"\"\n",
    "        dead, alive = 0, 1\n",
    "        p_dead = 1 - p_alive # We know that if a cell is not alive, it must be dead\n",
    "        self.board = np.random.choice(\n",
    "            [self.DEAD, self.ALIVE], p=[p_dead, p_alive], size=(height, width)\n",
    "        )\n",
    "\n",
    "    def count_living_neighbors(self, r, c):\n",
    "        \"\"\"\n",
    "        Counts the number of living neighbors around an array cell.\n",
    "\n",
    "        Parameters\n",
    "        ----------\n",
    "            board : 2d array\n",
    "            r : int\n",
    "                row index\n",
    "            c : int\n",
    "                column index\n",
    "\n",
    "        Returns\n",
    "        ----------\n",
    "            int\n",
    "                number of living neighbors\n",
    "\n",
    "        \"\"\"\n",
    "        num_rows, num_cols = self.board.shape\n",
    "\n",
    "        u_ = self.board[(r-1) % num_rows, c % num_cols]\n",
    "        d_ = self.board[(r+1) % num_rows, c % num_cols]\n",
    "        l_ = self.board[r % num_rows, (c-1) % num_cols]\n",
    "        r_ = self.board[r % num_rows, (c+1) % num_cols]\n",
    "        ul = self.board[(r-1) % num_rows, (c-1) % num_cols]\n",
    "        ur = self.board[(r-1) % num_rows, (c+1) % num_cols]\n",
    "        dl = self.board[(r+1) % num_rows, (c-1) % num_cols]\n",
    "        dr = self.board[(r+1) % num_rows, (c+1) % num_cols]\n",
    "\n",
    "        return (u_ + d_ + l_ + r_ + ul + ur + dl + dr)\n",
    "\n",
    "    def compute_next_state(self, current_state, num_living_neighbors):\n",
    "        \"\"\"\n",
    "        Computes the state of a cell in the next generation of a Game of Life.\n",
    "\n",
    "        Parameters\n",
    "        ----------\n",
    "            current_state : int\n",
    "            num_living_neighbors : int\n",
    "\n",
    "        Returns\n",
    "        ----------\n",
    "            next_state : int\n",
    "\n",
    "        \"\"\"\n",
    "        next_state = self.DEAD\n",
    "\n",
    "        if (num_living_neighbors < 2) and (current_state == self.ALIVE):\n",
    "            # Dies by under-population\n",
    "            next_state = self.DEAD\n",
    "        elif ( 2 <= num_living_neighbors <= 3) and (current_state == self.ALIVE):\n",
    "            # Survives on to the next generation\n",
    "            next_state = self.ALIVE\n",
    "        elif (num_living_neighbors > 3) and (current_state == self.ALIVE):\n",
    "            # Dies by over-population\n",
    "            next_state = self.DEAD\n",
    "        elif (num_living_neighbors == 3) and (current_state == self.DEAD):\n",
    "            # Live cell is birthed \n",
    "            next_state = self.ALIVE\n",
    "\n",
    "        return next_state\n",
    "    \n",
    "    def restart(self):\n",
    "        \"\"\"Restart the Game of Life simulation with a new board\"\"\"\n",
    "        pass"
   ]
  },
  {
   "cell_type": "code",
   "execution_count": 10,
   "metadata": {
    "collapsed": false
   },
   "outputs": [
    {
     "name": "stdout",
     "output_type": "stream",
     "text": [
      "Starting Board:\n",
      "[[0 1 1 0 0 0 0 0 1 0]\n",
      " [0 1 0 0 0 1 0 0 0 0]\n",
      " [0 0 0 0 0 1 1 1 0 0]\n",
      " [0 0 1 1 0 1 0 1 0 0]\n",
      " [0 0 0 0 0 0 1 0 0 0]\n",
      " [0 0 0 0 0 0 0 0 0 0]\n",
      " [0 0 0 0 1 0 0 0 0 0]\n",
      " [0 0 1 0 0 0 1 0 0 1]\n",
      " [1 0 1 0 1 0 0 0 0 0]\n",
      " [0 0 0 0 0 0 1 0 0 0]]\n",
      "Next Board:\n",
      "[[0 1 1 0 0 0 0 0 0 0]\n",
      " [0 1 1 0 0 1 0 1 0 0]\n",
      " [0 0 1 0 0 1 0 1 0 0]\n",
      " [0 0 0 0 1 1 0 1 0 0]\n",
      " [0 0 0 0 0 0 1 0 0 0]\n",
      " [0 0 0 0 0 0 0 0 0 0]\n",
      " [0 0 0 0 0 0 0 0 0 0]\n",
      " [0 1 0 0 0 1 0 0 0 0]\n",
      " [0 1 0 1 0 1 0 0 0 0]\n",
      " [0 0 1 1 0 0 0 0 0 0]]\n"
     ]
    }
   ],
   "source": [
    "simulation = GameOfLife()\n",
    "simulation.start(height=10, width=10)\n",
    "print('Starting Board:')\n",
    "print(simulation.board)\n",
    "print('Next Board:')\n",
    "simulation.step()\n",
    "print(simulation.board)"
   ]
  },
  {
   "cell_type": "markdown",
   "metadata": {},
   "source": [
    "And finally let's add the ability to query the board to see if it is empty and to restart, if it is."
   ]
  },
  {
   "cell_type": "code",
   "execution_count": 11,
   "metadata": {
    "collapsed": true
   },
   "outputs": [],
   "source": [
    "class GameOfLife:\n",
    "    \"\"\"Conway's Game of Life\"\"\"\n",
    "    DEAD, ALIVE = 0, 1\n",
    "    def __init__(self):\n",
    "        \"\"\"Initialize a class instance\"\"\"\n",
    "        self.board = None\n",
    "        \n",
    "    def is_empty(self):\n",
    "        \"\"\"Check to see if the Game of Life board is empty\"\"\"\n",
    "        return (self.board == 0).all()\n",
    "    \n",
    "    def restart(self, height, width, p_alive):\n",
    "        \"\"\"Restart the Game of Life simulation with a new board\"\"\"\n",
    "        self.board = self.new_board(height, width, p_alive)\n",
    "    \n",
    "    def start(self, height, width, p_alive=.3):\n",
    "        \"\"\"Start a new simulation.\"\"\"\n",
    "        self.new_board(height, width, p_alive)\n",
    "    \n",
    "    def step(self):\n",
    "        \"\"\"Step the simulation forward a generation.\"\"\"\n",
    "        # Copy the current board for the next generation\n",
    "        next_board = self.board.copy()\n",
    "        # Loop over all of the cells in the current board\n",
    "        num_rows, num_cols = self.board.shape\n",
    "        for r in range(num_rows):\n",
    "            for c in range(num_cols):\n",
    "                # Fetch the current state of this cell\n",
    "                current_state = self.board[r, c]\n",
    "                # Count the number of living neighbors\n",
    "                num_living_neighbors = self.count_living_neighbors(r, c)\n",
    "                # Figure out if this cell will be alive or dead in the next board\n",
    "                next_state = self.compute_next_state(current_state, num_living_neighbors)\n",
    "    #             next_state = 1\n",
    "                # Set the state of this cell in the next board\n",
    "                next_board[r, c] = next_state  \n",
    "\n",
    "        self.board = next_board\n",
    "    \n",
    "    def is_empty(self):\n",
    "        \"\"\"Check to see if the Game of Life board is empty\"\"\"\n",
    "        pass\n",
    "    \n",
    "    def new_board(self, height, width, p_alive):\n",
    "        \"\"\"\n",
    "        This function creates a Game of Life game board.\n",
    "\n",
    "        Parameters\n",
    "        ----------\n",
    "            height : integer\n",
    "                the height of the board\n",
    "            width : integer\n",
    "                the width of the board\n",
    "            p_alive : float\n",
    "                the chance that a cell is set to 'alive', must be between [0, 1]\n",
    "                \n",
    "        \"\"\"\n",
    "        dead, alive = 0, 1\n",
    "        p_dead = 1 - p_alive # We know that if a cell is not alive, it must be dead\n",
    "        self.board = np.random.choice(\n",
    "            [self.DEAD, self.ALIVE], p=[p_dead, p_alive], size=(height, width)\n",
    "        )\n",
    "\n",
    "    def count_living_neighbors(self, r, c):\n",
    "        \"\"\"\n",
    "        Counts the number of living neighbors around an array cell.\n",
    "\n",
    "        Parameters\n",
    "        ----------\n",
    "            board : 2d array\n",
    "            r : int\n",
    "                row index\n",
    "            c : int\n",
    "                column index\n",
    "\n",
    "        Returns\n",
    "        ----------\n",
    "            int\n",
    "                number of living neighbors\n",
    "\n",
    "        \"\"\"\n",
    "        num_rows, num_cols = self.board.shape\n",
    "\n",
    "        u_ = self.board[(r-1) % num_rows, c % num_cols]\n",
    "        d_ = self.board[(r+1) % num_rows, c % num_cols]\n",
    "        l_ = self.board[r % num_rows, (c-1) % num_cols]\n",
    "        r_ = self.board[r % num_rows, (c+1) % num_cols]\n",
    "        ul = self.board[(r-1) % num_rows, (c-1) % num_cols]\n",
    "        ur = self.board[(r-1) % num_rows, (c+1) % num_cols]\n",
    "        dl = self.board[(r+1) % num_rows, (c-1) % num_cols]\n",
    "        dr = self.board[(r+1) % num_rows, (c+1) % num_cols]\n",
    "\n",
    "        return (u_ + d_ + l_ + r_ + ul + ur + dl + dr)\n",
    "\n",
    "    def compute_next_state(self, current_state, num_living_neighbors):\n",
    "        \"\"\"\n",
    "        Computes the state of a cell in the next generation of a Game of Life.\n",
    "\n",
    "        Parameters\n",
    "        ----------\n",
    "            current_state : int\n",
    "            num_living_neighbors : int\n",
    "\n",
    "        Returns\n",
    "        ----------\n",
    "            next_state : int\n",
    "\n",
    "        \"\"\"\n",
    "        next_state = self.DEAD\n",
    "\n",
    "        if (num_living_neighbors < 2) and (current_state == self.ALIVE):\n",
    "            # Dies by under-population\n",
    "            next_state = self.DEAD\n",
    "        elif ( 2 <= num_living_neighbors <= 3) and (current_state == self.ALIVE):\n",
    "            # Survives on to the next generation\n",
    "            next_state = self.ALIVE\n",
    "        elif (num_living_neighbors > 3) and (current_state == self.ALIVE):\n",
    "            # Dies by over-population\n",
    "            next_state = self.DEAD\n",
    "        elif (num_living_neighbors == 3) and (current_state == self.DEAD):\n",
    "            # Live cell is birthed \n",
    "            next_state = self.ALIVE\n",
    "\n",
    "        return next_state"
   ]
  },
  {
   "cell_type": "code",
   "execution_count": 12,
   "metadata": {
    "collapsed": false
   },
   "outputs": [
    {
     "ename": "KeyboardInterrupt",
     "evalue": "",
     "output_type": "error",
     "traceback": [
      "\u001b[0;31m---------------------------------------------------------------------------\u001b[0m",
      "\u001b[0;31mKeyboardInterrupt\u001b[0m                         Traceback (most recent call last)",
      "\u001b[0;32m<ipython-input-12-f3f3ef5e6700>\u001b[0m in \u001b[0;36m<module>\u001b[0;34m()\u001b[0m\n\u001b[1;32m      2\u001b[0m \u001b[0msimulation\u001b[0m\u001b[0;34m.\u001b[0m\u001b[0mstart\u001b[0m\u001b[0;34m(\u001b[0m\u001b[0mheight\u001b[0m\u001b[0;34m=\u001b[0m\u001b[0;36m10\u001b[0m\u001b[0;34m,\u001b[0m \u001b[0mwidth\u001b[0m\u001b[0;34m=\u001b[0m\u001b[0;36m10\u001b[0m\u001b[0;34m)\u001b[0m\u001b[0;34m\u001b[0m\u001b[0m\n\u001b[1;32m      3\u001b[0m \u001b[0;32mwhile\u001b[0m \u001b[0;32mTrue\u001b[0m\u001b[0;34m:\u001b[0m\u001b[0;34m\u001b[0m\u001b[0m\n\u001b[0;32m----> 4\u001b[0;31m     \u001b[0msimulation\u001b[0m\u001b[0;34m.\u001b[0m\u001b[0mstep\u001b[0m\u001b[0;34m(\u001b[0m\u001b[0;34m)\u001b[0m\u001b[0;34m\u001b[0m\u001b[0m\n\u001b[0m\u001b[1;32m      5\u001b[0m     \u001b[0;32mif\u001b[0m \u001b[0msimulation\u001b[0m\u001b[0;34m.\u001b[0m\u001b[0mis_empty\u001b[0m\u001b[0;34m(\u001b[0m\u001b[0;34m)\u001b[0m\u001b[0;34m:\u001b[0m\u001b[0;34m\u001b[0m\u001b[0m\n\u001b[1;32m      6\u001b[0m         \u001b[0msimulation\u001b[0m\u001b[0;34m.\u001b[0m\u001b[0mrestart\u001b[0m\u001b[0;34m(\u001b[0m\u001b[0mheight\u001b[0m\u001b[0;34m=\u001b[0m\u001b[0;36m10\u001b[0m\u001b[0;34m,\u001b[0m \u001b[0mwidth\u001b[0m\u001b[0;34m=\u001b[0m\u001b[0;36m10\u001b[0m\u001b[0;34m)\u001b[0m\u001b[0;34m\u001b[0m\u001b[0m\n",
      "\u001b[0;32m<ipython-input-11-d937aa0c4f79>\u001b[0m in \u001b[0;36mstep\u001b[0;34m(self)\u001b[0m\n\u001b[1;32m     31\u001b[0m                 \u001b[0mnum_living_neighbors\u001b[0m \u001b[0;34m=\u001b[0m \u001b[0mself\u001b[0m\u001b[0;34m.\u001b[0m\u001b[0mcount_living_neighbors\u001b[0m\u001b[0;34m(\u001b[0m\u001b[0mr\u001b[0m\u001b[0;34m,\u001b[0m \u001b[0mc\u001b[0m\u001b[0;34m)\u001b[0m\u001b[0;34m\u001b[0m\u001b[0m\n\u001b[1;32m     32\u001b[0m                 \u001b[0;31m# Figure out if this cell will be alive or dead in the next board\u001b[0m\u001b[0;34m\u001b[0m\u001b[0;34m\u001b[0m\u001b[0m\n\u001b[0;32m---> 33\u001b[0;31m                 \u001b[0mnext_state\u001b[0m \u001b[0;34m=\u001b[0m \u001b[0mself\u001b[0m\u001b[0;34m.\u001b[0m\u001b[0mcompute_next_state\u001b[0m\u001b[0;34m(\u001b[0m\u001b[0mcurrent_state\u001b[0m\u001b[0;34m,\u001b[0m \u001b[0mnum_living_neighbors\u001b[0m\u001b[0;34m)\u001b[0m\u001b[0;34m\u001b[0m\u001b[0m\n\u001b[0m\u001b[1;32m     34\u001b[0m     \u001b[0;31m#             next_state = 1\u001b[0m\u001b[0;34m\u001b[0m\u001b[0;34m\u001b[0m\u001b[0m\n\u001b[1;32m     35\u001b[0m                 \u001b[0;31m# Set the state of this cell in the next board\u001b[0m\u001b[0;34m\u001b[0m\u001b[0;34m\u001b[0m\u001b[0m\n",
      "\u001b[0;32m<ipython-input-11-d937aa0c4f79>\u001b[0m in \u001b[0;36mcompute_next_state\u001b[0;34m(self, current_state, num_living_neighbors)\u001b[0m\n\u001b[1;32m    118\u001b[0m             \u001b[0;31m# Dies by over-population\u001b[0m\u001b[0;34m\u001b[0m\u001b[0;34m\u001b[0m\u001b[0m\n\u001b[1;32m    119\u001b[0m             \u001b[0mnext_state\u001b[0m \u001b[0;34m=\u001b[0m \u001b[0mself\u001b[0m\u001b[0;34m.\u001b[0m\u001b[0mDEAD\u001b[0m\u001b[0;34m\u001b[0m\u001b[0m\n\u001b[0;32m--> 120\u001b[0;31m         \u001b[0;32melif\u001b[0m \u001b[0;34m(\u001b[0m\u001b[0mnum_living_neighbors\u001b[0m \u001b[0;34m==\u001b[0m \u001b[0;36m3\u001b[0m\u001b[0;34m)\u001b[0m \u001b[0;32mand\u001b[0m \u001b[0;34m(\u001b[0m\u001b[0mcurrent_state\u001b[0m \u001b[0;34m==\u001b[0m \u001b[0mself\u001b[0m\u001b[0;34m.\u001b[0m\u001b[0mDEAD\u001b[0m\u001b[0;34m)\u001b[0m\u001b[0;34m:\u001b[0m\u001b[0;34m\u001b[0m\u001b[0m\n\u001b[0m\u001b[1;32m    121\u001b[0m             \u001b[0;31m# Live cell is birthed\u001b[0m\u001b[0;34m\u001b[0m\u001b[0;34m\u001b[0m\u001b[0m\n\u001b[1;32m    122\u001b[0m             \u001b[0mnext_state\u001b[0m \u001b[0;34m=\u001b[0m \u001b[0mself\u001b[0m\u001b[0;34m.\u001b[0m\u001b[0mALIVE\u001b[0m\u001b[0;34m\u001b[0m\u001b[0m\n",
      "\u001b[0;31mKeyboardInterrupt\u001b[0m: "
     ]
    }
   ],
   "source": [
    "simulation = GameOfLife()\n",
    "simulation.start(height=10, width=10)\n",
    "while True:\n",
    "    simulation.step()\n",
    "    if simulation.is_empty():\n",
    "        simulation.restart(height=10, width=10)"
   ]
  }
 ],
 "metadata": {
  "anaconda-cloud": {},
  "kernelspec": {
   "display_name": "Python [touchdesigner]",
   "language": "python",
   "name": "Python [touchdesigner]"
  },
  "language_info": {
   "codemirror_mode": {
    "name": "ipython",
    "version": 3
   },
   "file_extension": ".py",
   "mimetype": "text/x-python",
   "name": "python",
   "nbconvert_exporter": "python",
   "pygments_lexer": "ipython3",
   "version": "3.5.2"
  }
 },
 "nbformat": 4,
 "nbformat_minor": 0
}
