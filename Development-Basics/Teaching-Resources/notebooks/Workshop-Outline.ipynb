{
 "cells": [
  {
   "cell_type": "markdown",
   "metadata": {},
   "source": [
    "# Development Basics Workshop Outline\n",
    "---"
   ]
  },
  {
   "cell_type": "markdown",
   "metadata": {},
   "source": [
    "## Prerequisites\n",
    "---\n",
    "* Some programming experience (not necessarily Python)\n",
    "* Familiarity with structures like floats, integers, arrays/lists\n",
    "* Understanding function definitions"
   ]
  },
  {
   "cell_type": "markdown",
   "metadata": {},
   "source": [
    "## Nice-to-Haves\n",
    "---\n",
    "* Experience with NumPy\n",
    "* Experience with Object Oriented design principles"
   ]
  },
  {
   "cell_type": "markdown",
   "metadata": {},
   "source": [
    "## By the End of this You Will Have:\n",
    "---\n",
    "* Created a Python virtual environment\n",
    "* Used Jupyter notebook to quickly sketch and prototype Python code\n",
    "* Implemented solutions to the same problem in three different manners"
   ]
  },
  {
   "cell_type": "markdown",
   "metadata": {},
   "source": [
    "## Setting Up a Development Environment\n",
    "---"
   ]
  },
  {
   "cell_type": "markdown",
   "metadata": {},
   "source": [
    "### Version Control (git)\n",
    "* Installing git\n",
    "* Using git"
   ]
  },
  {
   "cell_type": "markdown",
   "metadata": {},
   "source": [
    "### Python Environments\n",
    "* Installing Conda\n",
    "* Creating a Conda Environment\n",
    "* Installing Packages with Conda\n",
    "* Linking Conda and Touchdesigner"
   ]
  },
  {
   "cell_type": "markdown",
   "metadata": {},
   "source": [
    "### Development Tools\n",
    "* Jupyter Notebooks\n",
    "* Sphinx Autodocs?"
   ]
  },
  {
   "cell_type": "markdown",
   "metadata": {},
   "source": [
    "## Starting a Project\n",
    "---"
   ]
  },
  {
   "cell_type": "markdown",
   "metadata": {},
   "source": [
    "### Organization\n",
    "* Directory Structure\n",
    "* git Repository"
   ]
  },
  {
   "cell_type": "markdown",
   "metadata": {},
   "source": [
    "### Planning\n",
    "* Conway's Game of Life Paper\n",
    "* Separate components to our project\n",
    "    * 'Math' part of it (back-end)\n",
    "    * 'Visual' part of it (front-end)\n",
    "* 'Working Backwards' Approach\n",
    "    * Sketching out what we visually want the project to look like\n",
    "    * Creating the game board in TD, driven by some fake data to figure out what our input to the visualization step needs to be."
   ]
  },
  {
   "cell_type": "markdown",
   "metadata": {},
   "source": [
    "### Implementation\n",
    "* Python Implementation\n",
    "* TouchDesigner CHOP Implementation\n",
    "* GLSL Implementation"
   ]
  }
 ],
 "metadata": {
  "anaconda-cloud": {},
  "kernelspec": {
   "display_name": "Python [conda env:touchdesigner]",
   "language": "python",
   "name": "conda-env-touchdesigner-py"
  },
  "language_info": {
   "codemirror_mode": {
    "name": "ipython",
    "version": 3
   },
   "file_extension": ".py",
   "mimetype": "text/x-python",
   "name": "python",
   "nbconvert_exporter": "python",
   "pygments_lexer": "ipython3",
   "version": "3.5.2"
  }
 },
 "nbformat": 4,
 "nbformat_minor": 1
}
