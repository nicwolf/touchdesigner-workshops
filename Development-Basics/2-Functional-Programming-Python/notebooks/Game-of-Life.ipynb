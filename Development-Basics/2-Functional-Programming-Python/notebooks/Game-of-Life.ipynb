{
 "cells": [
  {
   "cell_type": "markdown",
   "metadata": {},
   "source": [
    "# Conway's Game of Life\n",
    "---"
   ]
  },
  {
   "cell_type": "markdown",
   "metadata": {},
   "source": [
    "The universe of the Game of Life is an infinite two-dimensional orthogonal grid of square cells, each of which is in one of two possible states, alive or dead. Every cell interacts with its eight neighbours, which are the cells that are horizontally, vertically, or diagonally adjacent. At each step in time, the following transitions occur:\n",
    "\n",
    "* Any live cell with fewer than two live neighbours dies, as if caused by under-population.\n",
    "* Any live cell with two or three live neighbours lives on to the next generation.\n",
    "* Any live cell with more than three live neighbours dies, as if by over-population.\n",
    "* Any dead cell with exactly three live neighbours becomes a live cell, as if by reproduction.\n",
    "\n",
    "The initial pattern constitutes the seed of the system. The first generation is created by applying the above rules simultaneously to every cell in the seed—births and deaths occur simultaneously, and the discrete moment at which this happens is sometimes called a tick (in other words, each generation is a pure function of the preceding one). The rules continue to be applied repeatedly to create further generations. [1]"
   ]
  },
  {
   "cell_type": "markdown",
   "metadata": {},
   "source": [
    "## Example"
   ]
  },
  {
   "cell_type": "markdown",
   "metadata": {},
   "source": [
    "Here is an example of a Game of Life board stepping through generations. The black cells are alive and the white cells are dead.\n",
    "\n",
    "<img src=\"assets/gameoflife_blinker.gif\",width=200,height=200>"
   ]
  },
  {
   "cell_type": "markdown",
   "metadata": {},
   "source": [
    "## Design Decisions"
   ]
  },
  {
   "cell_type": "markdown",
   "metadata": {},
   "source": [
    "We'll start by making some decisions about how to structure our program and the sorts of data types we'll use in our code.\n",
    "\n",
    "> The universe of the Game of Life is an infinite two-dimensional orthogonal grid of square cells, each of which is in one of two possible states, alive or dead.\n",
    "\n",
    "suggests that a two-dimensional array is a good structure for our Game of Life 'board'. We'll use the NumPy arrays that we learned about in the previous lesson (make sure you run the next cell)."
   ]
  },
  {
   "cell_type": "code",
   "execution_count": null,
   "metadata": {
    "collapsed": true
   },
   "outputs": [],
   "source": [
    "import numpy as np"
   ]
  },
  {
   "cell_type": "markdown",
   "metadata": {},
   "source": [
    "An important note:\n",
    "\n",
    "> The universe of the Game of Life is an *infinite* two-dimensional orthogonal grid...\n",
    "\n",
    "We aren't going to try to represent an infinite grid in our implementation of the Game of Life. Instead, we'll create a grid of a *finite* size and we'll imagine that the right and left edges, and the top and bottom edges wrap around to meet."
   ]
  },
  {
   "cell_type": "markdown",
   "metadata": {},
   "source": [
    "## Creating a Game of Life Board"
   ]
  },
  {
   "cell_type": "markdown",
   "metadata": {},
   "source": [
    "Let's start by writing a function that will return a Game of Life board of a certain size. We'll use the number 0 to represent a dead cell, the number 1 to represent a living cell and, to start with, let's return a board with only dead cells."
   ]
  },
  {
   "cell_type": "code",
   "execution_count": null,
   "metadata": {
    "collapsed": false
   },
   "outputs": [],
   "source": [
    "def create_empty_board(height, width):\n",
    "    \"\"\"\n",
    "    This function creates an empty Game of Life game board.\n",
    "    \n",
    "    Parameters\n",
    "    ----------\n",
    "        height : integer\n",
    "            the height of the board\n",
    "        width : integer\n",
    "            the width of the board\n",
    "            \n",
    "    Returns\n",
    "    ----------\n",
    "        board : 2d array\n",
    "            a Game of Life board, with 'living' and 'dead' cells\n",
    "            \n",
    "    Examples\n",
    "    ----------\n",
    "    >>> create_empty_board(3, 3)\n",
    "    array([[ 0.,  0.,  0.],\n",
    "           [ 0.,  0.,  0.],\n",
    "           [ 0.,  0.,  0.]])\n",
    "    \"\"\"\n",
    "    pass"
   ]
  },
  {
   "cell_type": "markdown",
   "metadata": {},
   "source": [
    "Now we have a Game of Life board but all the cells are dead so nothing interesting will happen. Let's write a function to create a board in which some cells are alive and some are dead. We can use the NumPy `random.choice` function to accomplish this.\n",
    "\n",
    "Anytime you are confused about how to use a function, in Jupyter Notebook you can write the `functionname` followed by a `?` and a help box will pop up."
   ]
  },
  {
   "cell_type": "code",
   "execution_count": null,
   "metadata": {
    "collapsed": true
   },
   "outputs": [],
   "source": [
    "np.random.choice?"
   ]
  },
  {
   "cell_type": "code",
   "execution_count": null,
   "metadata": {
    "collapsed": false
   },
   "outputs": [],
   "source": [
    "def create_board(height, width):\n",
    "    \"\"\"\n",
    "    This function creates a Game of Life game board.\n",
    "    \n",
    "    Parameters\n",
    "    ----------\n",
    "        height : integer\n",
    "            the height of the board\n",
    "        width : integer\n",
    "            the width of the board\n",
    "            \n",
    "    Returns\n",
    "    ----------\n",
    "        board : 2d array\n",
    "            a Game of Life board, with 'living' and 'dead' cells\n",
    "            \n",
    "    Examples\n",
    "    ----------\n",
    "    >>> np.random.seed(1)\n",
    "    >>> create_board(3, 3)\n",
    "    array([[1, 1, 0],\n",
    "           [0, 1, 1],\n",
    "           [1, 1, 1]])\n",
    "    \"\"\"\n",
    "    pass"
   ]
  },
  {
   "cell_type": "markdown",
   "metadata": {},
   "source": [
    "The way that this function currently works, each cell has a 50% chance of being alive and a 50% chance of being dead. One of the rules of Conway's Game of Life:\n",
    "\n",
    "> Any live cell with more than three live neighbours dies, as if by over-population.\n",
    "\n",
    "means that our game board has *way* too many living cells in it. We should add to the function so that we can control how likely a cell is to start as living."
   ]
  },
  {
   "cell_type": "code",
   "execution_count": null,
   "metadata": {
    "collapsed": false
   },
   "outputs": [],
   "source": [
    "def create_board(height, width, p_alive):\n",
    "    \"\"\"\n",
    "    This function creates a Game of Life game board.\n",
    "    \n",
    "    Parameters\n",
    "    ----------\n",
    "        height : integer\n",
    "            the height of the board\n",
    "        width : integer\n",
    "            the width of the board\n",
    "        p_alive : float\n",
    "            the chance that a cell is set to 'alive', must be in [0, 1]\n",
    "            \n",
    "    Returns\n",
    "    ----------\n",
    "        board : 2d array\n",
    "            a Game of Life board, with 'living' and 'dead' cells\n",
    "    \n",
    "    Examples\n",
    "    ----------\n",
    "    >>> np.random.seed(1)\n",
    "    >>> create_board(3, 3, .3)\n",
    "    array([[0, 1, 0],           \n",
    "           [0, 0, 0],\n",
    "           [0, 0, 0]])\n",
    "    \"\"\"\n",
    "    pass"
   ]
  },
  {
   "cell_type": "markdown",
   "metadata": {},
   "source": [
    "## Scripting the Simulation"
   ]
  },
  {
   "cell_type": "markdown",
   "metadata": {},
   "source": [
    "### Pseudocode\n",
    "\n",
    "Writing 'pseudocode' is a great first step for writing complicated programs. Pseudocode is a program written in plain english that describes --- at a high level --- what your program is doing. Because it isn't meant to be run, you don't have to deal with any bugs. Here's an example of some pseudocode describing an algorithm for how the Game of Life simulation steps along to its next generation:\n",
    "\n",
    "    Create a copy of the current board for the next generation board\n",
    "    For each cell in the current board:\n",
    "        Count the number of living neighbors it has.\n",
    "        Compute the state of the cell in the next generation\n",
    "        Set the cell's value in the next board to either alive or dead.\n",
    "        \n",
    "Now that we have a pseudocode skeleton, we can make some design decisions about how we'll implement this in actual code. Let's code up this algorithm in a function called `step_forward()`. \n",
    "\n",
    "One good practice in programming is to split up complex functions into smaller, less-complex functions. If this whole function is `step_forward()`, let's look for other logical groups of code that we could split out and write as separate functions.\n",
    "\n",
    "This bit:\n",
    "\n",
    "    Count the number of living neighbors a cell has\n",
    "    \n",
    "Is complex enough that we could write it in a separate function, `count_living_neighbors()`.\n",
    "\n",
    "Another bit of code that we could split out:\n",
    "\n",
    "    Compute the state of this cell in the next generation\n",
    "        \n",
    "Into a function called `compute_next_state()`."
   ]
  },
  {
   "cell_type": "markdown",
   "metadata": {},
   "source": [
    "### Python Code\n",
    "I'll give you this first function, and you'll write the other two. Let's start with the `count_living_neighbors()` function. What does this function do?\n",
    "\n",
    "Well, given some cell, we need to count the number of its 8 neighbors that are alive. This one can be tricky because of the way that Python handles array indexing. Let's say we write the following function:"
   ]
  },
  {
   "cell_type": "code",
   "execution_count": null,
   "metadata": {
    "collapsed": true
   },
   "outputs": [],
   "source": [
    "def count_living_neighbors(board, r, c):\n",
    "    \"\"\"\n",
    "    Counts the number of living neighbors around an array cell.\n",
    "    \n",
    "    Parameters\n",
    "    ----------\n",
    "        board : 2d array\n",
    "        r : int\n",
    "            row index\n",
    "        c : int\n",
    "            column index\n",
    "            \n",
    "    Returns\n",
    "    ----------\n",
    "        int\n",
    "            number of living neighbors\n",
    "\n",
    "    \"\"\"\n",
    "    u_ = board[r-1, c] # Move up a row\n",
    "    d_ = board[r+1, c] # Move down a row\n",
    "    l_ = board[r, c-1] # Move left a column\n",
    "    r_ = board[r, c+1] # etc...\n",
    "    ul = board[r-1, c-1]\n",
    "    ur = board[r-1, c+1]\n",
    "    dl = board[r+1, c-1]\n",
    "    dr = board[r+1, c+1]\n",
    "    \n",
    "    # Remember that we are representing the states of the cells with \n",
    "    # the numbers 1 (alive) and 0 (dead), so if we add the values\n",
    "    # in each cell, we'll end up with the tally of living cells.\n",
    "    return (u_ + d_ + l_ + r_ + ul + ur + dl + dr)"
   ]
  },
  {
   "cell_type": "markdown",
   "metadata": {},
   "source": [
    "Let's test this function out on the following Game of Life board:"
   ]
  },
  {
   "cell_type": "code",
   "execution_count": null,
   "metadata": {
    "collapsed": false
   },
   "outputs": [],
   "source": [
    "board = np.array([\n",
    "    [0, 1, 0, 0],\n",
    "    [0, 1, 0, 0],\n",
    "    [0, 0, 1, 1],\n",
    "    [1, 0, 0, 0]\n",
    "])"
   ]
  },
  {
   "cell_type": "markdown",
   "metadata": {},
   "source": [
    "Counting the number of neighbors for some of the middle elements works as expected:"
   ]
  },
  {
   "cell_type": "code",
   "execution_count": null,
   "metadata": {
    "collapsed": false
   },
   "outputs": [],
   "source": [
    "count_living_neighbors(board, 1, 1) == 2"
   ]
  },
  {
   "cell_type": "code",
   "execution_count": null,
   "metadata": {
    "collapsed": false
   },
   "outputs": [],
   "source": [
    "count_living_neighbors(board, 1, 2) == 4"
   ]
  },
  {
   "cell_type": "markdown",
   "metadata": {},
   "source": [
    "But if we try to do it on an edge:"
   ]
  },
  {
   "cell_type": "code",
   "execution_count": null,
   "metadata": {
    "collapsed": false
   },
   "outputs": [],
   "source": [
    "count_living_neighbors(board, 0, 3) == 1"
   ]
  },
  {
   "cell_type": "markdown",
   "metadata": {},
   "source": [
    "we get the error:\n",
    "\n",
    "    IndexError: index 4 is out of bounds for axis 1 with size 4\n",
    "    \n",
    "How do we fix this? Let's remember that Python uses 0-based indexing. An array with 4 elements has indices 0, 1, 2, and 3. Trying to access the array entry at position 4 raises an IndexError because there *is* no entry at position 4. \n",
    "\n",
    "* NOTE: Python supports negative indexing, so we only encounter this problem on the right and bottom edges of the array. For example, the indices -1, -2, -3, and -4 are valid for an array with 4 elements. These are reckoned backwards from the last entry in the array, so -1 is the last element, -2 is the second-to-last, etc...\n",
    "\n",
    "A good question to ask:\n",
    "\n",
    "> What behavior do we want our program to have when it tries to access values outside of the array? \n",
    "\n",
    "We've decided that we want our board to 'wrap around' (e.g. the first element outside of the right side of a row should be the first element on the left side of the same row). In this specific case, for example, when we try to access the element at position 4, we really want the element at position 0.\n",
    "\n",
    "Enter the % (modulo) operator."
   ]
  },
  {
   "cell_type": "markdown",
   "metadata": {},
   "source": [
    "### Modulo"
   ]
  },
  {
   "cell_type": "markdown",
   "metadata": {},
   "source": [
    "> The modulo operation finds the remainder after division of one number by another. [2]\n",
    "\n",
    "Just like we use the `*` operator for multiplication and the `+` operator for addition, we can use the `%` operator for the modulo operation. Here are some examples:"
   ]
  },
  {
   "cell_type": "code",
   "execution_count": null,
   "metadata": {
    "collapsed": false
   },
   "outputs": [],
   "source": [
    "# 1 divides into 1 with no remainder.\n",
    "1 % 1"
   ]
  },
  {
   "cell_type": "code",
   "execution_count": null,
   "metadata": {
    "collapsed": false
   },
   "outputs": [],
   "source": [
    "# 1 divides into 2 with no remainder.\n",
    "2 % 1"
   ]
  },
  {
   "cell_type": "code",
   "execution_count": null,
   "metadata": {
    "collapsed": false
   },
   "outputs": [],
   "source": [
    "# 2 divides into 5 with a remainder of 1.\n",
    "5 % 2"
   ]
  },
  {
   "cell_type": "markdown",
   "metadata": {},
   "source": [
    "So how can we apply this to array indices?\n",
    "\n",
    "Well, let's say we have the following 4-element array:"
   ]
  },
  {
   "cell_type": "code",
   "execution_count": null,
   "metadata": {
    "collapsed": false
   },
   "outputs": [],
   "source": [
    "array = [0, 1, 2, 3]\n",
    "print('Array:', array)\n",
    "print('Length:', len(array))"
   ]
  },
  {
   "cell_type": "markdown",
   "metadata": {},
   "source": [
    "If we try to access the element at position 4, like we did earlier:"
   ]
  },
  {
   "cell_type": "code",
   "execution_count": null,
   "metadata": {
    "collapsed": false
   },
   "outputs": [],
   "source": [
    "i = 4\n",
    "array[i]"
   ]
  },
  {
   "cell_type": "markdown",
   "metadata": {},
   "source": [
    "We get an error. Let's try applying the modulo operator in this situation:"
   ]
  },
  {
   "cell_type": "code",
   "execution_count": null,
   "metadata": {
    "collapsed": false
   },
   "outputs": [],
   "source": [
    "i = 4\n",
    "i % len(array)"
   ]
  },
  {
   "cell_type": "markdown",
   "metadata": {},
   "source": [
    "So if we modulo a number by the length of an array, we'll always get a valid position in such a way that gives us our desired, 'wrap-around' behavior."
   ]
  },
  {
   "cell_type": "markdown",
   "metadata": {},
   "source": [
    "Now, let's re-write the `count_living_neighbors` function using the % operator to avoid getting an IndexError."
   ]
  },
  {
   "cell_type": "code",
   "execution_count": null,
   "metadata": {
    "collapsed": true
   },
   "outputs": [],
   "source": [
    "def count_living_neighbors(board, r, c):\n",
    "    \"\"\"\n",
    "    Counts the number of living neighbors around an array cell.\n",
    "    \n",
    "    Parameters\n",
    "    ----------\n",
    "        board : 2d array\n",
    "        r : int\n",
    "            row index\n",
    "        c : int\n",
    "            column index\n",
    "            \n",
    "    Returns\n",
    "    ----------\n",
    "        int\n",
    "            number of living neighbors\n",
    "\n",
    "    \"\"\"\n",
    "    num_rows, num_cols = board.shape\n",
    "    \n",
    "    u_ = board[(r-1) % num_rows, c % num_cols]\n",
    "    d_ = board[(r+1) % num_rows, c % num_cols]\n",
    "    l_ = board[r % num_rows, (c-1) % num_cols]\n",
    "    r_ = board[r % num_rows, (c+1) % num_cols]\n",
    "    ul = board[(r-1) % num_rows, (c-1) % num_cols]\n",
    "    ur = board[(r-1) % num_rows, (c+1) % num_cols]\n",
    "    dl = board[(r+1) % num_rows, (c-1) % num_cols]\n",
    "    dr = board[(r+1) % num_rows, (c+1) % num_cols]\n",
    "    \n",
    "    return (u_ + d_ + l_ + r_ + ul + ur + dl + dr)"
   ]
  },
  {
   "cell_type": "markdown",
   "metadata": {},
   "source": [
    "## Compute Next State\n",
    "Here's where you take over --- the next function you'll write, `compute_next_state()`, should compute the state of a cell in the next generation of the game given its current state and the number of living neighbors it has.\n",
    "\n",
    "A reminder of the rules of the Game of Life:\n",
    "\n",
    "* Any live cell with fewer than two live neighbours dies, as if caused by under-population.\n",
    "* Any live cell with two or three live neighbours lives on to the next generation.\n",
    "* Any live cell with more than three live neighbours dies, as if by over-population.\n",
    "* Any dead cell with exactly three live neighbours becomes a live cell, as if by reproduction.\n",
    "\n",
    "Let's start by detailing this function with some pseudocode:\n",
    "\n",
    "        If (the number of living neighbors < 2) and (the cell is alive):\n",
    "            It will be dead in the next board\n",
    "        If (the number of living neighbors = 2 or 3) and (the cell is alive):\n",
    "            It will be alive in the next board\n",
    "        If (the number of living neighbors > 3) and the cell is alive:\n",
    "            It will be dead in the next board\n",
    "        If (the number of living neighbors = 3) and (the cell is dead):\n",
    "            It will be alive in the next board"
   ]
  },
  {
   "cell_type": "code",
   "execution_count": null,
   "metadata": {
    "collapsed": true
   },
   "outputs": [],
   "source": [
    "def compute_next_state(current_state, num_living_neighbors):\n",
    "    \"\"\"\n",
    "    Computes the state of a cell in the next generation of a Game of Life.\n",
    "    \n",
    "    Parameters\n",
    "    ----------\n",
    "        current_state : int\n",
    "        num_living_neighbors : int\n",
    "        \n",
    "    Returns\n",
    "    ----------\n",
    "        next_state : int\n",
    "        \n",
    "    \"\"\"\n",
    "    # Define our states\n",
    "    dead, alive = 0, 1\n",
    "    \n",
    "    # Let's assume that the next state is the same as the current state\n",
    "    # unless we figure out otherwise.\n",
    "    next_state = current_state\n",
    "    \n",
    "    # Here is the first conditional statement, you fill out the rest!\n",
    "    if (num_living_neighbors < 2) and (current_state == alive):\n",
    "        next_state = dead\n",
    "        \n",
    "    # TODO: 3 more conditional statements.\n",
    "    \n",
    "    return next_state"
   ]
  },
  {
   "cell_type": "markdown",
   "metadata": {},
   "source": [
    "## Putting It All Together"
   ]
  },
  {
   "cell_type": "markdown",
   "metadata": {},
   "source": [
    "Here's the pseudocode we wrote earlier:\n",
    "    \n",
    "    Create a copy of the current board for the next generation board\n",
    "    For each cell in the current board:\n",
    "        Count the number of living neighbors it has.\n",
    "        Compute the state of the cell in the next generation\n",
    "        Set the cell's value in the next board to either alive or dead."
   ]
  },
  {
   "cell_type": "code",
   "execution_count": null,
   "metadata": {
    "collapsed": true
   },
   "outputs": [],
   "source": [
    "def step_forward(board):\n",
    "    \"\"\"\n",
    "    Computes the next generation of a Game of Life board.\n",
    "    \n",
    "    Parameters\n",
    "    ----------\n",
    "        board : 2d array\n",
    "        \n",
    "    Returns\n",
    "    ----------\n",
    "        next_board : 2d array\n",
    "    \"\"\"\n",
    "    # Copy the current board for the next generation\n",
    "    next_board = board.copy()\n",
    "    # Loop over all of the cells in the current board\n",
    "    rows, cols = board.shape\n",
    "    for r in range(rows):\n",
    "        for c in range(cols):\n",
    "            # Fetch the current state of this cell\n",
    "            current_state = board[r, c]\n",
    "            \n",
    "            # TODO: Count the number of living neighbors\n",
    "            # TODO: Figure out if this cell will be alive or dead in the next board,\n",
    "            #       define the variable `next_state`\n",
    "            \n",
    "            # Set the state of this cell in the next board\n",
    "            next_board[r, c] = next_state  \n",
    "    \n",
    "    pass"
   ]
  },
  {
   "cell_type": "markdown",
   "metadata": {},
   "source": [
    "## Testing it Out"
   ]
  },
  {
   "cell_type": "markdown",
   "metadata": {},
   "source": [
    "Let's try it out!"
   ]
  },
  {
   "cell_type": "code",
   "execution_count": null,
   "metadata": {
    "collapsed": false
   },
   "outputs": [],
   "source": [
    "# Create a new board\n",
    "board = create_board(5, 5, .3)\n",
    "print('Starting:')\n",
    "print(board)\n",
    "\n",
    "# Step the board forward\n",
    "print('Next Step:')\n",
    "board = step_forward(board)\n",
    "print(board)"
   ]
  },
  {
   "cell_type": "markdown",
   "metadata": {},
   "source": [
    "## References\n",
    "\n",
    "1. https://en.wikipedia.org/wiki/Conway's_Game_of_Life\n",
    "\n",
    "2. https://en.wikipedia.org/wiki/Modulo_operation"
   ]
  }
 ],
 "metadata": {
  "anaconda-cloud": {},
  "kernelspec": {
   "display_name": "Python [touchdesigner]",
   "language": "python",
   "name": "Python [touchdesigner]"
  },
  "language_info": {
   "codemirror_mode": {
    "name": "ipython",
    "version": 3
   },
   "file_extension": ".py",
   "mimetype": "text/x-python",
   "name": "python",
   "nbconvert_exporter": "python",
   "pygments_lexer": "ipython3",
   "version": "3.5.2"
  }
 },
 "nbformat": 4,
 "nbformat_minor": 1
}
