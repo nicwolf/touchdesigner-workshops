{
 "cells": [
  {
   "cell_type": "markdown",
   "metadata": {},
   "source": [
    "# Object Oriented Programming\n",
    "---"
   ]
  },
  {
   "cell_type": "markdown",
   "metadata": {},
   "source": [
    "In the last lesson, we wrote code in a 'functional' style. It's called the 'functional' style of programming because we wrote separate, isolated functions and chained them together to accomplish our goal. This is a perfectly valid way of writing code, and has pros and cons just like any other style of programming. \n",
    "\n",
    "What we'll explore next is a style of programming called Object Oriented Programming (OOP). OOP is a programming paradigm that gives us the ability to think more abstractly and structure our code as if it were a real-world object. \n",
    "\n",
    "Instead of passing an array that represents a Game of Life board between functions, we'll create a Game of Life 'object' that 'owns' a simulation board and can do things with it. The difference may not be super clear right now but it will hopefully come more into focus when we start to write some code. \n",
    "\n",
    "This style of programming also has pros and cons which we won't get into those here. People spend years and years getting familiar with different programming paradigms, and I think that the best way to learn about them is through experience. Don't sweat it too much now --- try writing code, and try writing code different ways. You'll figure out what works and what doesn't."
   ]
  },
  {
   "cell_type": "markdown",
   "metadata": {},
   "source": [
    "## Administrivia"
   ]
  },
  {
   "cell_type": "markdown",
   "metadata": {},
   "source": [
    "Let's import NumPy again."
   ]
  },
  {
   "cell_type": "code",
   "execution_count": 13,
   "metadata": {
    "collapsed": true
   },
   "outputs": [],
   "source": [
    "import numpy as np"
   ]
  },
  {
   "cell_type": "markdown",
   "metadata": {},
   "source": [
    "## A Quick Introduction to Classes"
   ]
  },
  {
   "cell_type": "markdown",
   "metadata": {},
   "source": [
    "We can use classes to store attributes of objects. Let's imagine a world where there every square is the same size:"
   ]
  },
  {
   "cell_type": "code",
   "execution_count": 18,
   "metadata": {
    "collapsed": false
   },
   "outputs": [
    {
     "data": {
      "text/plain": [
       "10"
      ]
     },
     "execution_count": 18,
     "metadata": {},
     "output_type": "execute_result"
    }
   ],
   "source": [
    "# A super simple class.\n",
    "class Square:\n",
    "    width = 10\n",
    "    \n",
    "Square.width"
   ]
  },
  {
   "cell_type": "markdown",
   "metadata": {},
   "source": [
    "We can also use classes as a template to create *similar* objects. A world where every square is the same size is boring, let's create a square object that can take on different sizes.\n",
    "\n",
    "If we add a method (functions under classes are referred to as 'methods') to the Square class called `__init__()` we can create 'instances' of Squares with different attributes.\n",
    "\n",
    "* NOTE: `__init__()` is not an arbitrary name, it is defined by Python."
   ]
  },
  {
   "cell_type": "code",
   "execution_count": 16,
   "metadata": {
    "collapsed": false
   },
   "outputs": [
    {
     "name": "stdout",
     "output_type": "stream",
     "text": [
      "The width of Square 1 is: 10\n",
      "The width of Square 2 is: 20\n"
     ]
    }
   ],
   "source": [
    "# A bit more complicated\n",
    "class Square:\n",
    "    def __init__(self, width):\n",
    "        self.width = width\n",
    "        \n",
    "square1 = Square(10)\n",
    "square2 = Square(20)\n",
    "\n",
    "print('The width of Square 1 is:', square1.width)\n",
    "print('The width of Square 2 is:', square2.width)"
   ]
  },
  {
   "cell_type": "markdown",
   "metadata": {},
   "source": [
    "Notice how the `__init__()` method takes two parameters? The second one, `width`, is intuitive but what about the first one, `self`? `self` is a reference to a specific instance of a class (namely the instance that we're working with). All of the methods that you write under a class will recieve `self` as their first argument, and this provides you with the ability to assign something like a `width` to *this instance's* width.\n",
    "\n",
    "Here, let's write another method for the Square class:"
   ]
  },
  {
   "cell_type": "code",
   "execution_count": 17,
   "metadata": {
    "collapsed": false
   },
   "outputs": [
    {
     "name": "stdout",
     "output_type": "stream",
     "text": [
      "The width of the square is: 10\n",
      "The width of square is: 20\n"
     ]
    }
   ],
   "source": [
    "# A bit more complicated\n",
    "class Square:\n",
    "    def __init__(self, width):\n",
    "        self.width = width\n",
    "        \n",
    "    def double_width(self):\n",
    "        self.width = self.width * 2\n",
    "        \n",
    "square = Square(10)\n",
    "print('The width of the square is:', square.width)\n",
    "square.double_width()\n",
    "print('The width of square is:', square.width)"
   ]
  },
  {
   "cell_type": "markdown",
   "metadata": {},
   "source": [
    "Note how the new method, `double_width()`, takes `self` as an argument. If it didn't do this, we would have no way to access the width that we passed in when we first created the Square. "
   ]
  },
  {
   "cell_type": "markdown",
   "metadata": {},
   "source": [
    "## Game of Life Class"
   ]
  },
  {
   "cell_type": "markdown",
   "metadata": {},
   "source": [
    "Let's try our hand at writing a Game of Life class. Most of what we'll do here is copy over functions that we wrote in the last lesson, so you may want to open that notebook next to this one.\n",
    "\n",
    "We should start by thinking about the properties that our Game of Life object should have as well as the sorts of actions it should be able to perform.\n",
    "\n",
    "* It should be able to start a simulation with a new board\n",
    "* It should be able to step forward through generations\n",
    "* We may want to start a new simulation if all of the cells in the board are dead, so we should write a function to query the board to see if all the cells are dead"
   ]
  },
  {
   "cell_type": "code",
   "execution_count": 1,
   "metadata": {
    "collapsed": true
   },
   "outputs": [],
   "source": [
    "# Skeleton Class\n",
    "class GameOfLife:\n",
    "    \"\"\"Conway's Game of Life\"\"\"\n",
    "    def __init__(self):\n",
    "        \"\"\"Initialize a class instance\"\"\"\n",
    "        pass\n",
    "\n",
    "    def start(self):\n",
    "        \"\"\"Start a new simulation.\"\"\"\n",
    "        pass\n",
    "    \n",
    "    def step(self):\n",
    "        \"\"\"Step the simulation forward a generation.\"\"\"\n",
    "        pass\n",
    "    \n",
    "    def is_empty(self):\n",
    "        \"\"\"Check to see if the Game of Life board is empty\"\"\"\n",
    "        pass\n",
    "    \n",
    "    def restart(self):\n",
    "        \"\"\"Restart the Game of Life simulation with a new board\"\"\"\n",
    "        pass"
   ]
  },
  {
   "cell_type": "markdown",
   "metadata": {},
   "source": [
    "Now let's start filling this class in.\n",
    "\n",
    "We'll start with our initialization method. We don't have a simulation running yet, but we want a 'board' attribute to be accessible to the other functions in the class, so we'll go ahead and add an empty board."
   ]
  },
  {
   "cell_type": "code",
   "execution_count": 2,
   "metadata": {
    "collapsed": true
   },
   "outputs": [],
   "source": [
    "class GameOfLife:\n",
    "    \"\"\"Conway's Game of Life\"\"\"\n",
    "    def __init__(self):\n",
    "        \"\"\"Initialize a class instance\"\"\"\n",
    "        self.board = None\n",
    "\n",
    "    def start(self):\n",
    "        \"\"\"Start a new simulation.\"\"\"\n",
    "        pass\n",
    "    \n",
    "    def step(self):\n",
    "        \"\"\"Step the simulation forward a generation.\"\"\"\n",
    "        pass\n",
    "    \n",
    "    def is_empty(self):\n",
    "        \"\"\"Check to see if the Game of Life board is empty\"\"\"\n",
    "        pass\n",
    "    \n",
    "    def restart(self):\n",
    "        \"\"\"Restart the Game of Life simulation with a new board\"\"\"\n",
    "        pass"
   ]
  },
  {
   "cell_type": "code",
   "execution_count": 3,
   "metadata": {
    "collapsed": false
   },
   "outputs": [
    {
     "name": "stdout",
     "output_type": "stream",
     "text": [
      "None\n"
     ]
    }
   ],
   "source": [
    "simulation = GameOfLife()\n",
    "print(simulation.board)"
   ]
  },
  {
   "cell_type": "markdown",
   "metadata": {},
   "source": [
    "Next we'll write the start method. This should create a new game board of a given size. We'll rip off the `create_board` function that we wrote earlier, rename it as `new_board`, which makes more sense in this context, and call that function under our class's start method."
   ]
  },
  {
   "cell_type": "code",
   "execution_count": 4,
   "metadata": {
    "collapsed": true
   },
   "outputs": [],
   "source": [
    "class GameOfLife:\n",
    "    DEAD, ALIVE = 0, 1 # These are Class variables\n",
    "    \"\"\"Conway's Game of Life\"\"\"\n",
    "    def __init__(self):\n",
    "        \"\"\"Initialize a class instance\"\"\"\n",
    "        self.board = None\n",
    "\n",
    "    def start(self, height, width, p_alive=.3):\n",
    "        \"\"\"Start a new simulation.\"\"\"\n",
    "        self.new_board(height, width, p_alive)\n",
    "    \n",
    "    def step(self):\n",
    "        \"\"\"Step the simulation forward a generation.\"\"\"\n",
    "        pass\n",
    "    \n",
    "    def is_empty(self):\n",
    "        \"\"\"Check to see if the Game of Life board is empty\"\"\"\n",
    "        pass\n",
    "    \n",
    "    def new_board(self, height, width, p_alive):\n",
    "        \"\"\"\n",
    "        This function creates a Game of Life game board.\n",
    "\n",
    "        Parameters\n",
    "        ----------\n",
    "            height : integer\n",
    "                the height of the board\n",
    "            width : integer\n",
    "                the width of the board\n",
    "            p_alive : float\n",
    "                the chance that a cell is set to 'alive', must be between [0, 1]\n",
    "                \n",
    "        \"\"\"\n",
    "        p_dead = 1 - p_alive # We know that if a cell is not alive, it must be dead\n",
    "        self.board = np.random.choice(\n",
    "            [self.DEAD, self.ALIVE], p=[p_dead, p_alive], size=(height, width)\n",
    "        )\n",
    "    \n",
    "    def restart(self):\n",
    "        \"\"\"Restart the Game of Life simulation with a new board\"\"\"\n",
    "        pass"
   ]
  },
  {
   "cell_type": "code",
   "execution_count": 7,
   "metadata": {
    "collapsed": false
   },
   "outputs": [
    {
     "data": {
      "text/plain": [
       "array([[0, 1, 0, 0, 0, 1, 1, 0, 0, 0],\n",
       "       [0, 0, 0, 1, 0, 0, 0, 1, 0, 0],\n",
       "       [1, 0, 1, 0, 0, 0, 1, 0, 0, 1],\n",
       "       [0, 0, 0, 0, 0, 0, 0, 0, 0, 1],\n",
       "       [0, 0, 0, 0, 0, 1, 1, 0, 0, 0],\n",
       "       [0, 1, 0, 1, 1, 0, 0, 0, 1, 0],\n",
       "       [0, 0, 0, 1, 0, 0, 0, 0, 0, 1],\n",
       "       [1, 1, 1, 1, 1, 0, 1, 0, 0, 0],\n",
       "       [1, 0, 0, 0, 1, 1, 0, 0, 0, 0],\n",
       "       [0, 0, 1, 1, 0, 0, 0, 0, 0, 0]])"
      ]
     },
     "execution_count": 7,
     "metadata": {},
     "output_type": "execute_result"
    }
   ],
   "source": [
    "simulation = GameOfLife()\n",
    "simulation.start(height=10, width=10)\n",
    "simulation.board"
   ]
  },
  {
   "cell_type": "markdown",
   "metadata": {},
   "source": [
    "Next, let's add in the functionality to step to the next generation."
   ]
  },
  {
   "cell_type": "code",
   "execution_count": 9,
   "metadata": {
    "collapsed": true
   },
   "outputs": [],
   "source": [
    "class GameOfLife:\n",
    "    \"\"\"Conway's Game of Life\"\"\"\n",
    "    DEAD, ALIVE = 0, 1\n",
    "    def __init__(self):\n",
    "        \"\"\"Initialize a class instance\"\"\"\n",
    "        self.board = None\n",
    "\n",
    "    def start(self, height, width, p_alive=.3):\n",
    "        \"\"\"Start a new simulation.\"\"\"\n",
    "        self.new_board(height, width, p_alive)\n",
    "    \n",
    "    def step(self):\n",
    "        \"\"\"Step the simulation forward a generation.\"\"\"\n",
    "        # Copy the current board for the next generation\n",
    "        next_board = self.board.copy()\n",
    "        # Loop over all of the cells in the current board\n",
    "        num_rows, num_cols = self.board.shape\n",
    "        for r in range(num_rows):\n",
    "            for c in range(num_cols):\n",
    "                # Fetch the current state of this cell\n",
    "                current_state = self.board[r, c]\n",
    "                # Count the number of living neighbors\n",
    "                num_living_neighbors = self.count_living_neighbors(r, c)\n",
    "                # Figure out if this cell will be alive or dead in the next board\n",
    "                next_state = self.compute_next_state(current_state, num_living_neighbors)\n",
    "    #             next_state = 1\n",
    "                # Set the state of this cell in the next board\n",
    "                next_board[r, c] = next_state  \n",
    "\n",
    "        self.board = next_board\n",
    "    \n",
    "    def is_empty(self):\n",
    "        \"\"\"Check to see if the Game of Life board is empty\"\"\"\n",
    "        pass\n",
    "    \n",
    "    def new_board(self, height, width, p_alive):\n",
    "        \"\"\"\n",
    "        This function creates a Game of Life game board.\n",
    "\n",
    "        Parameters\n",
    "        ----------\n",
    "            height : integer\n",
    "                the height of the board\n",
    "            width : integer\n",
    "                the width of the board\n",
    "            p_alive : float\n",
    "                the chance that a cell is set to 'alive', must be between [0, 1]\n",
    "                \n",
    "        \"\"\"\n",
    "        dead, alive = 0, 1\n",
    "        p_dead = 1 - p_alive # We know that if a cell is not alive, it must be dead\n",
    "        self.board = np.random.choice(\n",
    "            [self.DEAD, self.ALIVE], p=[p_dead, p_alive], size=(height, width)\n",
    "        )\n",
    "\n",
    "    def count_living_neighbors(self, r, c):\n",
    "        \"\"\"\n",
    "        Counts the number of living neighbors around an array cell.\n",
    "\n",
    "        Parameters\n",
    "        ----------\n",
    "            board : 2d array\n",
    "            r : int\n",
    "                row index\n",
    "            c : int\n",
    "                column index\n",
    "\n",
    "        Returns\n",
    "        ----------\n",
    "            int\n",
    "                number of living neighbors\n",
    "\n",
    "        \"\"\"\n",
    "        num_rows, num_cols = self.board.shape\n",
    "\n",
    "        u_ = self.board[(r-1) % num_rows, c % num_cols]\n",
    "        d_ = self.board[(r+1) % num_rows, c % num_cols]\n",
    "        l_ = self.board[r % num_rows, (c-1) % num_cols]\n",
    "        r_ = self.board[r % num_rows, (c+1) % num_cols]\n",
    "        ul = self.board[(r-1) % num_rows, (c-1) % num_cols]\n",
    "        ur = self.board[(r-1) % num_rows, (c+1) % num_cols]\n",
    "        dl = self.board[(r+1) % num_rows, (c-1) % num_cols]\n",
    "        dr = self.board[(r+1) % num_rows, (c+1) % num_cols]\n",
    "\n",
    "        return (u_ + d_ + l_ + r_ + ul + ur + dl + dr)\n",
    "\n",
    "    def compute_next_state(self, current_state, num_living_neighbors):\n",
    "        \"\"\"\n",
    "        Computes the state of a cell in the next generation of a Game of Life.\n",
    "\n",
    "        Parameters\n",
    "        ----------\n",
    "            current_state : int\n",
    "            num_living_neighbors : int\n",
    "\n",
    "        Returns\n",
    "        ----------\n",
    "            next_state : int\n",
    "\n",
    "        \"\"\"\n",
    "        next_state = self.DEAD\n",
    "\n",
    "        if (num_living_neighbors < 2) and (current_state == self.ALIVE):\n",
    "            # Dies by under-population\n",
    "            next_state = self.DEAD\n",
    "        elif ( 2 <= num_living_neighbors <= 3) and (current_state == self.ALIVE):\n",
    "            # Survives on to the next generation\n",
    "            next_state = self.ALIVE\n",
    "        elif (num_living_neighbors > 3) and (current_state == self.ALIVE):\n",
    "            # Dies by over-population\n",
    "            next_state = self.DEAD\n",
    "        elif (num_living_neighbors == 3) and (current_state == self.DEAD):\n",
    "            # Live cell is birthed \n",
    "            next_state = self.ALIVE\n",
    "\n",
    "        return next_state\n",
    "    \n",
    "    def restart(self):\n",
    "        \"\"\"Restart the Game of Life simulation with a new board\"\"\"\n",
    "        pass"
   ]
  },
  {
   "cell_type": "code",
   "execution_count": 10,
   "metadata": {
    "collapsed": false
   },
   "outputs": [
    {
     "name": "stdout",
     "output_type": "stream",
     "text": [
      "Starting Board:\n",
      "[[0 1 1 0 0 0 0 0 1 0]\n",
      " [0 1 0 0 0 1 0 0 0 0]\n",
      " [0 0 0 0 0 1 1 1 0 0]\n",
      " [0 0 1 1 0 1 0 1 0 0]\n",
      " [0 0 0 0 0 0 1 0 0 0]\n",
      " [0 0 0 0 0 0 0 0 0 0]\n",
      " [0 0 0 0 1 0 0 0 0 0]\n",
      " [0 0 1 0 0 0 1 0 0 1]\n",
      " [1 0 1 0 1 0 0 0 0 0]\n",
      " [0 0 0 0 0 0 1 0 0 0]]\n",
      "Next Board:\n",
      "[[0 1 1 0 0 0 0 0 0 0]\n",
      " [0 1 1 0 0 1 0 1 0 0]\n",
      " [0 0 1 0 0 1 0 1 0 0]\n",
      " [0 0 0 0 1 1 0 1 0 0]\n",
      " [0 0 0 0 0 0 1 0 0 0]\n",
      " [0 0 0 0 0 0 0 0 0 0]\n",
      " [0 0 0 0 0 0 0 0 0 0]\n",
      " [0 1 0 0 0 1 0 0 0 0]\n",
      " [0 1 0 1 0 1 0 0 0 0]\n",
      " [0 0 1 1 0 0 0 0 0 0]]\n"
     ]
    }
   ],
   "source": [
    "simulation = GameOfLife()\n",
    "simulation.start(height=10, width=10)\n",
    "print('Starting Board:')\n",
    "print(simulation.board)\n",
    "print('Next Board:')\n",
    "simulation.step()\n",
    "print(simulation.board)"
   ]
  },
  {
   "cell_type": "markdown",
   "metadata": {},
   "source": [
    "And finally let's add the ability to query the board to see if it is empty and to restart, if it is."
   ]
  },
  {
   "cell_type": "code",
   "execution_count": 11,
   "metadata": {
    "collapsed": true
   },
   "outputs": [],
   "source": [
    "class GameOfLife:\n",
    "    \"\"\"Conway's Game of Life\"\"\"\n",
    "    DEAD, ALIVE = 0, 1\n",
    "    def __init__(self):\n",
    "        \"\"\"Initialize a class instance\"\"\"\n",
    "        self.board = None\n",
    "        \n",
    "    def is_empty(self):\n",
    "        \"\"\"Check to see if the Game of Life board is empty\"\"\"\n",
    "        return (self.board == 0).all()\n",
    "    \n",
    "    def restart(self, height, width, p_alive):\n",
    "        \"\"\"Restart the Game of Life simulation with a new board\"\"\"\n",
    "        self.board = self.new_board(height, width, p_alive)\n",
    "    \n",
    "    def start(self, height, width, p_alive=.3):\n",
    "        \"\"\"Start a new simulation.\"\"\"\n",
    "        self.new_board(height, width, p_alive)\n",
    "    \n",
    "    def step(self):\n",
    "        \"\"\"Step the simulation forward a generation.\"\"\"\n",
    "        # Copy the current board for the next generation\n",
    "        next_board = self.board.copy()\n",
    "        # Loop over all of the cells in the current board\n",
    "        num_rows, num_cols = self.board.shape\n",
    "        for r in range(num_rows):\n",
    "            for c in range(num_cols):\n",
    "                # Fetch the current state of this cell\n",
    "                current_state = self.board[r, c]\n",
    "                # Count the number of living neighbors\n",
    "                num_living_neighbors = self.count_living_neighbors(r, c)\n",
    "                # Figure out if this cell will be alive or dead in the next board\n",
    "                next_state = self.compute_next_state(current_state, num_living_neighbors)\n",
    "    #             next_state = 1\n",
    "                # Set the state of this cell in the next board\n",
    "                next_board[r, c] = next_state  \n",
    "\n",
    "        self.board = next_board\n",
    "    \n",
    "    def is_empty(self):\n",
    "        \"\"\"Check to see if the Game of Life board is empty\"\"\"\n",
    "        pass\n",
    "    \n",
    "    def new_board(self, height, width, p_alive):\n",
    "        \"\"\"\n",
    "        This function creates a Game of Life game board.\n",
    "\n",
    "        Parameters\n",
    "        ----------\n",
    "            height : integer\n",
    "                the height of the board\n",
    "            width : integer\n",
    "                the width of the board\n",
    "            p_alive : float\n",
    "                the chance that a cell is set to 'alive', must be between [0, 1]\n",
    "                \n",
    "        \"\"\"\n",
    "        dead, alive = 0, 1\n",
    "        p_dead = 1 - p_alive # We know that if a cell is not alive, it must be dead\n",
    "        self.board = np.random.choice(\n",
    "            [self.DEAD, self.ALIVE], p=[p_dead, p_alive], size=(height, width)\n",
    "        )\n",
    "\n",
    "    def count_living_neighbors(self, r, c):\n",
    "        \"\"\"\n",
    "        Counts the number of living neighbors around an array cell.\n",
    "\n",
    "        Parameters\n",
    "        ----------\n",
    "            board : 2d array\n",
    "            r : int\n",
    "                row index\n",
    "            c : int\n",
    "                column index\n",
    "\n",
    "        Returns\n",
    "        ----------\n",
    "            int\n",
    "                number of living neighbors\n",
    "\n",
    "        \"\"\"\n",
    "        num_rows, num_cols = self.board.shape\n",
    "\n",
    "        u_ = self.board[(r-1) % num_rows, c % num_cols]\n",
    "        d_ = self.board[(r+1) % num_rows, c % num_cols]\n",
    "        l_ = self.board[r % num_rows, (c-1) % num_cols]\n",
    "        r_ = self.board[r % num_rows, (c+1) % num_cols]\n",
    "        ul = self.board[(r-1) % num_rows, (c-1) % num_cols]\n",
    "        ur = self.board[(r-1) % num_rows, (c+1) % num_cols]\n",
    "        dl = self.board[(r+1) % num_rows, (c-1) % num_cols]\n",
    "        dr = self.board[(r+1) % num_rows, (c+1) % num_cols]\n",
    "\n",
    "        return (u_ + d_ + l_ + r_ + ul + ur + dl + dr)\n",
    "\n",
    "    def compute_next_state(self, current_state, num_living_neighbors):\n",
    "        \"\"\"\n",
    "        Computes the state of a cell in the next generation of a Game of Life.\n",
    "\n",
    "        Parameters\n",
    "        ----------\n",
    "            current_state : int\n",
    "            num_living_neighbors : int\n",
    "\n",
    "        Returns\n",
    "        ----------\n",
    "            next_state : int\n",
    "\n",
    "        \"\"\"\n",
    "        next_state = self.DEAD\n",
    "\n",
    "        if (num_living_neighbors < 2) and (current_state == self.ALIVE):\n",
    "            # Dies by under-population\n",
    "            next_state = self.DEAD\n",
    "        elif ( 2 <= num_living_neighbors <= 3) and (current_state == self.ALIVE):\n",
    "            # Survives on to the next generation\n",
    "            next_state = self.ALIVE\n",
    "        elif (num_living_neighbors > 3) and (current_state == self.ALIVE):\n",
    "            # Dies by over-population\n",
    "            next_state = self.DEAD\n",
    "        elif (num_living_neighbors == 3) and (current_state == self.DEAD):\n",
    "            # Live cell is birthed \n",
    "            next_state = self.ALIVE\n",
    "\n",
    "        return next_state"
   ]
  },
  {
   "cell_type": "code",
   "execution_count": 20,
   "metadata": {
    "collapsed": false
   },
   "outputs": [
    {
     "name": "stdout",
     "output_type": "stream",
     "text": [
      "[[0 1 0 0 0 0 0 0 0 0]\n",
      " [0 0 0 0 0 0 1 1 0 0]\n",
      " [1 1 0 0 0 0 0 0 0 0]\n",
      " [0 0 0 0 0 1 0 1 0 1]\n",
      " [0 0 0 0 0 0 0 0 1 0]\n",
      " [0 1 0 0 1 0 0 0 0 0]\n",
      " [1 1 0 0 0 0 0 0 0 0]\n",
      " [1 0 1 0 0 1 1 0 1 0]\n",
      " [0 1 1 0 1 0 1 0 0 1]\n",
      " [0 1 1 1 1 0 0 1 0 0]]\n",
      "[[0 1 0 1 0 0 1 1 0 0]\n",
      " [1 1 0 0 0 0 0 0 0 0]\n",
      " [1 0 0 0 0 0 0 1 1 0]\n",
      " [1 0 0 0 0 0 0 0 1 1]\n",
      " [0 0 0 0 0 0 0 0 1 0]\n",
      " [1 1 0 0 0 0 0 0 0 0]\n",
      " [1 0 1 0 0 1 0 0 0 1]\n",
      " [0 0 1 1 0 1 1 1 0 0]\n",
      " [0 0 0 0 1 0 1 0 1 1]\n",
      " [0 0 0 0 1 1 0 0 0 0]]\n",
      "[[1 1 1 0 1 1 1 0 0 0]\n",
      " [1 1 1 0 0 0 1 0 1 1]\n",
      " [0 0 0 0 0 0 0 1 1 0]\n",
      " [1 0 0 0 0 0 0 0 0 0]\n",
      " [0 1 0 0 0 0 0 0 1 0]\n",
      " [1 1 0 0 0 0 0 0 0 0]\n",
      " [1 0 1 1 1 1 0 0 0 1]\n",
      " [1 1 1 1 0 0 0 1 0 0]\n",
      " [0 0 0 0 0 0 0 0 1 0]\n",
      " [0 0 0 1 1 0 0 0 1 0]]\n",
      "[[0 0 0 0 1 0 1 0 1 0]\n",
      " [0 0 1 1 0 0 1 0 1 0]\n",
      " [0 0 0 0 0 0 0 1 1 0]\n",
      " [0 0 0 0 0 0 0 1 1 1]\n",
      " [0 1 0 0 0 0 0 0 0 1]\n",
      " [0 0 0 1 1 0 0 0 0 0]\n",
      " [0 0 0 0 1 0 0 0 0 1]\n",
      " [1 0 0 0 0 0 0 0 1 0]\n",
      " [0 1 0 0 1 0 0 1 1 1]\n",
      " [0 1 1 1 1 0 0 1 0 1]]\n",
      "[[0 1 0 0 1 0 1 0 1 1]\n",
      " [0 0 0 1 0 1 1 0 1 1]\n",
      " [0 0 0 0 0 0 1 0 0 0]\n",
      " [1 0 0 0 0 0 0 1 0 1]\n",
      " [1 0 0 0 0 0 0 0 0 1]\n",
      " [1 0 0 1 1 0 0 0 0 0]\n",
      " [0 0 0 1 1 0 0 0 0 1]\n",
      " [1 0 0 0 0 0 0 1 0 0]\n",
      " [0 1 0 0 1 0 0 1 0 0]\n",
      " [0 1 1 0 1 0 1 0 0 1]]\n",
      "[[0 1 0 0 1 0 1 0 0 0]\n",
      " [1 0 0 0 1 0 1 0 1 1]\n",
      " [1 0 0 0 0 1 1 0 0 0]\n",
      " [1 0 0 0 0 0 0 0 1 1]\n",
      " [0 1 0 0 0 0 0 0 1 0]\n",
      " [1 0 0 1 1 0 0 0 0 0]\n",
      " [1 0 0 1 1 0 0 0 0 1]\n",
      " [1 0 0 1 1 0 0 0 1 0]\n",
      " [0 1 1 1 0 1 1 1 1 0]\n",
      " [0 1 1 0 1 0 1 0 0 1]]\n",
      "[[0 1 1 0 1 0 1 0 1 0]\n",
      " [1 1 0 0 1 0 1 0 0 1]\n",
      " [0 1 0 0 0 1 1 0 0 0]\n",
      " [1 1 0 0 0 0 0 1 1 0]\n",
      " [0 1 0 0 0 0 0 0 1 0]\n",
      " [1 1 1 1 1 0 0 0 0 0]\n",
      " [1 1 1 0 0 1 0 0 0 0]\n",
      " [1 0 0 0 0 0 1 0 1 0]\n",
      " [0 0 0 0 0 0 1 0 1 0]\n",
      " [0 0 0 0 1 0 0 0 1 0]]\n",
      "[[0 1 1 0 1 0 0 0 1 0]\n",
      " [0 0 0 1 1 0 1 0 0 1]\n",
      " [0 0 1 0 0 1 1 0 1 0]\n",
      " [1 1 1 0 0 0 1 1 1 1]\n",
      " [0 0 0 1 0 0 0 1 1 0]\n",
      " [0 0 0 1 1 0 0 0 0 1]\n",
      " [0 0 0 0 1 1 0 0 0 0]\n",
      " [1 0 0 0 0 1 1 0 0 0]\n",
      " [0 0 0 0 0 1 0 0 1 0]\n",
      " [0 0 0 1 0 0 0 0 1 1]]\n",
      "[[1 0 1 0 1 1 0 1 1 0]\n",
      " [0 1 0 0 1 0 1 0 1 1]\n",
      " [0 0 1 0 1 0 0 0 0 0]\n",
      " [1 1 1 1 0 1 0 0 0 0]\n",
      " [0 1 0 1 1 0 1 0 0 0]\n",
      " [0 0 0 1 0 1 0 0 1 0]\n",
      " [0 0 0 1 0 0 1 0 0 0]\n",
      " [0 0 0 0 0 0 1 0 0 0]\n",
      " [0 0 0 0 1 1 1 1 1 0]\n",
      " [0 0 1 1 1 0 0 1 1 1]]\n",
      "[[1 0 1 0 0 0 0 0 0 0]\n",
      " [1 1 1 0 1 0 1 0 1 1]\n",
      " [0 0 0 0 1 0 0 0 0 1]\n",
      " [1 0 0 0 0 1 0 0 0 0]\n",
      " [1 1 0 0 0 0 1 0 0 0]\n",
      " [0 0 0 1 0 1 1 1 0 0]\n",
      " [0 0 0 0 1 1 1 1 0 0]\n",
      " [0 0 0 0 1 0 0 0 0 0]\n",
      " [0 0 0 0 1 0 0 0 0 1]\n",
      " [0 1 1 0 0 0 0 0 0 0]]\n"
     ]
    }
   ],
   "source": [
    "simulation = GameOfLife()\n",
    "simulation.start(height=10, width=10)\n",
    "for i in range(10):\n",
    "    print(simulation.board)\n",
    "    simulation.step()\n",
    "    if simulation.is_empty():\n",
    "        simulation.restart(height=10, width=10)"
   ]
  }
 ],
 "metadata": {
  "anaconda-cloud": {},
  "kernelspec": {
   "display_name": "Python [touchdesigner]",
   "language": "python",
   "name": "Python [touchdesigner]"
  },
  "language_info": {
   "codemirror_mode": {
    "name": "ipython",
    "version": 3
   },
   "file_extension": ".py",
   "mimetype": "text/x-python",
   "name": "python",
   "nbconvert_exporter": "python",
   "pygments_lexer": "ipython3",
   "version": "3.5.2"
  }
 },
 "nbformat": 4,
 "nbformat_minor": 0
}
