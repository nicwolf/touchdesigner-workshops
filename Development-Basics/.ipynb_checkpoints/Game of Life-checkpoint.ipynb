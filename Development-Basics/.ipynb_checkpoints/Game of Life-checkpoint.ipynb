{
 "cells": [
  {
   "cell_type": "markdown",
   "metadata": {},
   "source": [
    "# Conway's Game of Life\n",
    "---"
   ]
  },
  {
   "cell_type": "markdown",
   "metadata": {},
   "source": [
    "The universe of the Game of Life is an infinite two-dimensional orthogonal grid of square cells, each of which is in one of two possible states, alive or dead. Every cell interacts with its eight neighbours, which are the cells that are horizontally, vertically, or diagonally adjacent. At each step in time, the following transitions occur:\n",
    "\n",
    "* Any live cell with fewer than two live neighbours dies, as if caused by under-population.\n",
    "* Any live cell with two or three live neighbours lives on to the next generation.\n",
    "* Any live cell with more than three live neighbours dies, as if by over-population.\n",
    "* Any dead cell with exactly three live neighbours becomes a live cell, as if by reproduction.\n",
    "\n",
    "The initial pattern constitutes the seed of the system. The first generation is created by applying the above rules simultaneously to every cell in the seed—births and deaths occur simultaneously, and the discrete moment at which this happens is sometimes called a tick (in other words, each generation is a pure function of the preceding one). The rules continue to be applied repeatedly to create further generations. [1]"
   ]
  },
  {
   "cell_type": "markdown",
   "metadata": {},
   "source": [
    "## Example"
   ]
  },
  {
   "cell_type": "markdown",
   "metadata": {},
   "source": [
    "Some images of Game of Life systems should go here."
   ]
  },
  {
   "cell_type": "markdown",
   "metadata": {},
   "source": [
    "## Sketch Some Code"
   ]
  },
  {
   "cell_type": "markdown",
   "metadata": {},
   "source": [
    "We'll start by making some decisions about how to structure our program and the sorts of data types we'll use in our code.\n",
    "\n",
    "> The universe of the Game of Life is an infinite two-dimensional orthogonal grid of square cells, each of which is in one of two possible states, alive or dead.\n",
    "\n",
    "suggests that a two-dimensional array is a good structure for our Game of Life 'board'. We're working in the realm of applications and not theory, so let's ignore the bit about the board being 'infinite'. Let's start by writing a function that will return a Game of Life board of a certain size. We'll use the number 0 to represent a dead cell, and 1 to represent a living cell, and to start with, let's return a board with only dead cells."
   ]
  },
  {
   "cell_type": "code",
   "execution_count": 1,
   "metadata": {
    "collapsed": false
   },
   "outputs": [],
   "source": [
    "import numpy as np\n",
    "\n",
    "def create_empty_board(height, width):\n",
    "    \"\"\"\n",
    "    This function creates an empty Game of Life game board.\n",
    "    \n",
    "    Parameters\n",
    "    ----------\n",
    "        height : integer\n",
    "            the height of the board\n",
    "        width : integer\n",
    "            the width of the board\n",
    "            \n",
    "    Returns\n",
    "    ----------\n",
    "        board : 2d array\n",
    "            a Game of Life board, with 'living' and 'dead' cells\n",
    "    \"\"\"\n",
    "    board = np.zeros((height, width))\n",
    "    return board"
   ]
  },
  {
   "cell_type": "code",
   "execution_count": 2,
   "metadata": {
    "collapsed": false
   },
   "outputs": [
    {
     "data": {
      "text/plain": [
       "array([[ 0.,  0.,  0.,  0.,  0.,  0.,  0.,  0.,  0.,  0.],\n",
       "       [ 0.,  0.,  0.,  0.,  0.,  0.,  0.,  0.,  0.,  0.],\n",
       "       [ 0.,  0.,  0.,  0.,  0.,  0.,  0.,  0.,  0.,  0.],\n",
       "       [ 0.,  0.,  0.,  0.,  0.,  0.,  0.,  0.,  0.,  0.],\n",
       "       [ 0.,  0.,  0.,  0.,  0.,  0.,  0.,  0.,  0.,  0.],\n",
       "       [ 0.,  0.,  0.,  0.,  0.,  0.,  0.,  0.,  0.,  0.],\n",
       "       [ 0.,  0.,  0.,  0.,  0.,  0.,  0.,  0.,  0.,  0.],\n",
       "       [ 0.,  0.,  0.,  0.,  0.,  0.,  0.,  0.,  0.,  0.],\n",
       "       [ 0.,  0.,  0.,  0.,  0.,  0.,  0.,  0.,  0.,  0.],\n",
       "       [ 0.,  0.,  0.,  0.,  0.,  0.,  0.,  0.,  0.,  0.]])"
      ]
     },
     "execution_count": 2,
     "metadata": {},
     "output_type": "execute_result"
    }
   ],
   "source": [
    "board = create_empty_board(10, 10)\n",
    "board"
   ]
  },
  {
   "cell_type": "markdown",
   "metadata": {},
   "source": [
    "So now we have a Game of Life board, but all the cells are dead so nothing interesting will happen. Let's create a better function to create a board in which some cells are alive and some are dead. We can use the NumPy `random.choice` function to accomplish this.\n",
    "\n",
    "Anytime you are confused about how to use a function in Jupyter Notebook you can write the `functionname` followed by a `?` and a help box will pop up."
   ]
  },
  {
   "cell_type": "code",
   "execution_count": 3,
   "metadata": {
    "collapsed": true
   },
   "outputs": [],
   "source": [
    "np.random.choice?"
   ]
  },
  {
   "cell_type": "code",
   "execution_count": 4,
   "metadata": {
    "collapsed": false
   },
   "outputs": [],
   "source": [
    "def create_board(height, width):\n",
    "    \"\"\"\n",
    "    This function creates a Game of Life game board.\n",
    "    \n",
    "    Parameters\n",
    "    ----------\n",
    "        height : integer\n",
    "            the height of the board\n",
    "        width : integer\n",
    "            the width of the board\n",
    "            \n",
    "    Returns\n",
    "    ----------\n",
    "        board : 2d array\n",
    "            a Game of Life board, with 'living' and 'dead' cells\n",
    "    \"\"\"\n",
    "    dead, alive = 0, 1\n",
    "    board = np.random.choice([dead, alive], size=(height, width))\n",
    "    return board"
   ]
  },
  {
   "cell_type": "code",
   "execution_count": 5,
   "metadata": {
    "collapsed": false
   },
   "outputs": [
    {
     "data": {
      "text/plain": [
       "array([[1, 0, 1, 1, 0, 0, 0, 0, 0, 1],\n",
       "       [0, 0, 1, 0, 1, 0, 1, 0, 0, 0],\n",
       "       [1, 0, 1, 1, 0, 1, 1, 0, 0, 1],\n",
       "       [0, 1, 1, 1, 1, 0, 0, 0, 0, 1],\n",
       "       [0, 1, 0, 1, 0, 1, 0, 0, 0, 0],\n",
       "       [1, 0, 0, 1, 1, 0, 1, 1, 1, 0],\n",
       "       [1, 1, 0, 1, 1, 0, 1, 1, 1, 0],\n",
       "       [1, 1, 0, 0, 1, 1, 0, 1, 1, 1],\n",
       "       [0, 0, 1, 0, 1, 0, 0, 0, 0, 0],\n",
       "       [1, 1, 1, 0, 1, 1, 1, 0, 1, 1]])"
      ]
     },
     "execution_count": 5,
     "metadata": {},
     "output_type": "execute_result"
    }
   ],
   "source": [
    "board = create_board(10,10)\n",
    "board"
   ]
  },
  {
   "cell_type": "markdown",
   "metadata": {},
   "source": [
    "The way that this function currently works, each cell has a 50% chance of being alive and a 50% chance of being dead. One of the rules of Conway's Game of Life:\n",
    "\n",
    "> Any live cell with more than three live neighbours dies, as if by over-population.\n",
    "\n",
    "means that our game board has *way* too many living cells in it. We should add to the function so that we can control how likely a cell is to start as alive or dead."
   ]
  },
  {
   "cell_type": "code",
   "execution_count": 6,
   "metadata": {
    "collapsed": false
   },
   "outputs": [],
   "source": [
    "def create_board(height, width, p_alive):\n",
    "    \"\"\"\n",
    "    This function creates a Game of Life game board.\n",
    "    \n",
    "    Parameters\n",
    "    ----------\n",
    "        height : integer\n",
    "            the height of the board\n",
    "        width : integer\n",
    "            the width of the board\n",
    "        p_alive : float\n",
    "            the chance that a cell is set to 'alive', must be between [0, 1]\n",
    "            \n",
    "    Returns\n",
    "    ----------\n",
    "        board : 2d array\n",
    "            a Game of Life board, with 'living' and 'dead' cells\n",
    "    \"\"\"\n",
    "    dead, alive = 0, 1\n",
    "    p_dead = 1 - p_alive # We know that if a cell is not alive, it must be dead\n",
    "    board = np.random.choice([dead, alive], p=[p_dead, p_alive], size=(height, width))\n",
    "    return board"
   ]
  },
  {
   "cell_type": "code",
   "execution_count": 7,
   "metadata": {
    "collapsed": false
   },
   "outputs": [
    {
     "data": {
      "text/plain": [
       "array([[0, 0, 0, 0, 0, 0, 0, 0, 0, 0],\n",
       "       [0, 0, 0, 0, 0, 0, 0, 0, 0, 0],\n",
       "       [0, 0, 0, 0, 0, 0, 0, 0, 0, 0],\n",
       "       [0, 0, 0, 0, 0, 0, 0, 0, 0, 0],\n",
       "       [0, 0, 0, 0, 0, 0, 0, 0, 0, 0],\n",
       "       [0, 0, 0, 0, 0, 0, 0, 0, 0, 0],\n",
       "       [0, 0, 0, 0, 0, 0, 0, 0, 0, 0],\n",
       "       [0, 0, 0, 0, 0, 0, 0, 0, 0, 0],\n",
       "       [0, 0, 0, 0, 0, 0, 0, 0, 0, 0],\n",
       "       [0, 0, 0, 0, 0, 0, 0, 0, 0, 0]])"
      ]
     },
     "execution_count": 7,
     "metadata": {},
     "output_type": "execute_result"
    }
   ],
   "source": [
    "board = create_board(10, 10, p_alive=0)\n",
    "board"
   ]
  },
  {
   "cell_type": "code",
   "execution_count": 8,
   "metadata": {
    "collapsed": false
   },
   "outputs": [
    {
     "data": {
      "text/plain": [
       "array([[0, 1, 0, 1, 0, 0, 0, 0, 1, 0],\n",
       "       [1, 1, 1, 0, 0, 1, 0, 0, 1, 0],\n",
       "       [0, 0, 0, 0, 0, 0, 1, 0, 0, 0],\n",
       "       [0, 0, 0, 0, 1, 0, 0, 0, 0, 1],\n",
       "       [0, 0, 0, 0, 0, 0, 0, 0, 0, 0],\n",
       "       [0, 0, 0, 0, 0, 0, 0, 0, 0, 0],\n",
       "       [0, 1, 0, 0, 0, 0, 0, 0, 0, 1],\n",
       "       [0, 0, 0, 0, 0, 0, 0, 0, 1, 0],\n",
       "       [0, 0, 0, 0, 1, 1, 0, 1, 0, 0],\n",
       "       [0, 1, 0, 1, 0, 0, 0, 0, 0, 0]])"
      ]
     },
     "execution_count": 8,
     "metadata": {},
     "output_type": "execute_result"
    }
   ],
   "source": [
    "board = create_board(10, 10, p_alive=.2)\n",
    "board"
   ]
  },
  {
   "cell_type": "code",
   "execution_count": 9,
   "metadata": {
    "collapsed": false
   },
   "outputs": [
    {
     "data": {
      "text/plain": [
       "array([[1, 1, 1, 1, 1, 1, 1, 1, 1, 1],\n",
       "       [1, 1, 1, 1, 1, 1, 1, 1, 1, 1],\n",
       "       [1, 1, 1, 1, 1, 1, 1, 1, 1, 1],\n",
       "       [1, 1, 1, 1, 1, 1, 1, 1, 1, 1],\n",
       "       [1, 1, 1, 1, 1, 1, 1, 1, 1, 1],\n",
       "       [1, 1, 1, 1, 1, 1, 1, 1, 1, 1],\n",
       "       [1, 1, 1, 1, 1, 1, 1, 1, 1, 1],\n",
       "       [1, 1, 1, 1, 1, 1, 1, 1, 1, 1],\n",
       "       [1, 1, 1, 1, 1, 1, 1, 1, 1, 1],\n",
       "       [1, 1, 1, 1, 1, 1, 1, 1, 1, 1]])"
      ]
     },
     "execution_count": 9,
     "metadata": {},
     "output_type": "execute_result"
    }
   ],
   "source": [
    "board = create_board(10, 10, p_alive=1)\n",
    "board"
   ]
  },
  {
   "cell_type": "markdown",
   "metadata": {},
   "source": [
    "Now we're ready to start animating our game board. A reminder of the rules of the Game of Life:\n",
    "\n",
    "* Any live cell with fewer than two live neighbours dies, as if caused by under-population.\n",
    "* Any live cell with two or three live neighbours lives on to the next generation.\n",
    "* Any live cell with more than three live neighbours dies, as if by over-population.\n",
    "* Any dead cell with exactly three live neighbours becomes a live cell, as if by reproduction.\n",
    "\n",
    "Let's sketch out some pseudocode for the algorithm that we'll use to do this.\n",
    "\n",
    "    Create a copy of the current board for the next board\n",
    "    For each cell in the current board:\n",
    "        Count the number of living neighbors it has.\n",
    "        If (the number of living neighbors < 2) and (the cell is alive):\n",
    "            It will be dead in the next board\n",
    "        If (the number of living neighbors = 2 or 3) and (the cell is alive):\n",
    "            It will be alive in the next board\n",
    "        If (the number of living neighbors > 3) and the cell is alive:\n",
    "            It will be dead in the next board\n",
    "        If (the number of living neighbors = 3) and (the cell is dead):\n",
    "            It will be alive in the next board\n",
    "        Set the cell's value in the next board to either alive or dead.\n",
    "        \n",
    "Now that we have a pseudocode skeleton, we can sketch out some real code.\n",
    "\n",
    "* TEACHING NOTE: Start by writing `step_forward` and everytime we write a function that doesn't exist yet, define it and document it outside of `step_forward` with a single pass statement."
   ]
  },
  {
   "cell_type": "code",
   "execution_count": 37,
   "metadata": {
    "collapsed": true
   },
   "outputs": [],
   "source": [
    "def count_living_neighbors(board, r, c):\n",
    "    \"\"\"\n",
    "    Counts the number of living neighbors around an array cell.\n",
    "    \n",
    "    Parameters\n",
    "    ----------\n",
    "        board : 2d array\n",
    "        r : int\n",
    "            row index\n",
    "        c : int\n",
    "            column index\n",
    "            \n",
    "    Returns\n",
    "    ----------\n",
    "        int\n",
    "            number of living neighbors\n",
    "    \"\"\"\n",
    "    u_ = board[r-1, c]\n",
    "    d_ = board[r+1, c]\n",
    "    l_ = board[r, c-1]\n",
    "    r_ = board[r, c+1]\n",
    "    ul = board[r-1, c-1]\n",
    "    ur = board[r-1, c+1]\n",
    "    dl = board[r+1, c-1]\n",
    "    dr = board[r+1, c+1]\n",
    "    return (u_ + d_ + l_ + r_ + ul + ur + dl + dr)\n",
    "\n",
    "def get_next_state(current_state, num_living_neighbors):\n",
    "    \"\"\"\n",
    "    Computes the state of a cell in the next generation of a Game of Life.\n",
    "    \n",
    "    Parameters\n",
    "    ----------\n",
    "        current_state : int\n",
    "        num_living_neighbors : int\n",
    "        \n",
    "    Returns\n",
    "    ----------\n",
    "        next_state : int\n",
    "    \"\"\"\n",
    "    dead, alive = 0, 1\n",
    "    if (num_living_neighbors < 2) and (current_state == alive):\n",
    "        # Dies by under-population\n",
    "        next_state = dead\n",
    "    elif ( 2 <= num_living_neighbors <= 3) and (current_state == alive):\n",
    "        # Survives on to the next generation\n",
    "        next_state = alive\n",
    "    elif (num_living_neighbors > 3) and (current_state == alive):\n",
    "        # Dies by over-population\n",
    "        next_state = dead\n",
    "    elif (num_living_neighbors == 3) and (current_state == alive):\n",
    "        # Live cell is birthed \n",
    "        next_state = alive\n",
    "    return next_state\n",
    "\n",
    "def step_forward(board):\n",
    "    \"\"\"\n",
    "    Computes the next generation of a Game of Life board.\n",
    "    \n",
    "    Parameters\n",
    "    ----------\n",
    "        board : 2d array\n",
    "        \n",
    "    Returns\n",
    "    ----------\n",
    "        next_board : 2d array\n",
    "    \"\"\"\n",
    "    # Copy the current board for the next generation\n",
    "    next_board = board.copy()\n",
    "    # Loop over all of the cells in the current board\n",
    "    rows, cols = board.shape\n",
    "    for r in range(rows):\n",
    "        for c in range(cols):\n",
    "            # Fetch the current state of this cell\n",
    "            current_state = board[r, c]\n",
    "            # Count the number of living neighbors\n",
    "            num_living_neighbors = count_living_neighbors(board, r, c)\n",
    "            # Figure out if this cell will be alive or dead in the next board\n",
    "            next_state = get_next_state(current_state, num_living_neighbors)\n",
    "            # Set the state of this cell in the next board\n",
    "            next_board[r, c] = next_state  \n",
    "    return next_board"
   ]
  },
  {
   "cell_type": "markdown",
   "metadata": {},
   "source": [
    "TODO (Written 11/19/16):\n",
    "* Implement some tests for our functions\n",
    "* Work in a way to demonstrate how IndexErrors will be raised for the right/bottom edge cases\n",
    "* Figure out the best way to restructure this functionality into a class\n",
    "    * Maybe stop after this example is working and evaluate what our goals are for the visualization (e.g. we want the visualization to automatically restart if everything is dead, so we need a function to poll the whole board)\n",
    "* Is it possible to write a better array display function? Don't want it to be overly complex but it would be nice to see black/white squares instead of the array print output."
   ]
  },
  {
   "cell_type": "markdown",
   "metadata": {},
   "source": [
    "## References\n",
    "\n",
    "1. https://en.wikipedia.org/wiki/Conway's_Game_of_Life"
   ]
  }
 ],
 "metadata": {
  "anaconda-cloud": {},
  "kernelspec": {
   "display_name": "Python [conda env:touchdesigner]",
   "language": "python",
   "name": "conda-env-touchdesigner-py"
  },
  "language_info": {
   "codemirror_mode": {
    "name": "ipython",
    "version": 3
   },
   "file_extension": ".py",
   "mimetype": "text/x-python",
   "name": "python",
   "nbconvert_exporter": "python",
   "pygments_lexer": "ipython3",
   "version": "3.5.2"
  }
 },
 "nbformat": 4,
 "nbformat_minor": 1
}
